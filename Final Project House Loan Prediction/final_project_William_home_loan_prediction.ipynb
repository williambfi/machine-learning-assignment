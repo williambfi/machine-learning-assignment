{
  "metadata": {
    "kernelspec": {
      "language": "python",
      "display_name": "Python 3",
      "name": "python3"
    },
    "language_info": {
      "name": "python",
      "version": "3.7.10",
      "mimetype": "text/x-python",
      "codemirror_mode": {
        "name": "ipython",
        "version": 3
      },
      "pygments_lexer": "ipython3",
      "nbconvert_exporter": "python",
      "file_extension": ".py"
    },
    "colab": {
      "provenance": [],
      "collapsed_sections": [
        "agP5aw-SgvpO",
        "yHPZZ0LCgvpO"
      ]
    }
  },
  "nbformat_minor": 0,
  "nbformat": 4,
  "cells": [
    {
      "cell_type": "markdown",
      "source": [
        "# Table of Contents\n",
        "\n",
        "1. **[Introduction](#1)**\n",
        "2. **[Data Loading and cleanning](#2)**\n",
        "3. **[Exploratory Data Analysis](#3)**\n",
        "4. **[Data Preprocessing](#4)**\n",
        "5. **[Modeling](#5)**\n",
        "6. **[Evaluation](#7)**"
      ],
      "metadata": {
        "id": "VhtLO8fGjNyi"
      }
    },
    {
      "cell_type": "markdown",
      "source": [
        "#1. Introduction"
      ],
      "metadata": {
        "id": "CTA_Rh6ZjaX2"
      }
    },
    {
      "cell_type": "markdown",
      "source": [
        "- Saat ini perusahaan dalam  memvalidasi kelayakan pinjaman masih melakukan validasi secara manual sehingga memakan waktu yang lama.\n",
        "- Oleh karena itu, perusahaan ingin mengotomatisasi proses kelayakan pinjaman berdasarkan informasi pelanggan dan mengidentifikasi faktor/segmen pelanggan yang memenuhi syarat untuk mengambil pinjaman.\n",
        "- Mengurangi human error dalam validasi kelayakan pinjaman yang menyebabkan calon konsumen yang tidak eligible lolos sehingga menyebabkan credit macet.\n",
        "- Semakin akurat kita dalam memprediksi pelanggan yang memenuhi syarat, semakin bermanfaat bagi perusahaan."
      ],
      "metadata": {
        "id": "m8L1M1T_j3aH"
      }
    },
    {
      "cell_type": "markdown",
      "source": [
        "#2. Data Loading and cleanning"
      ],
      "metadata": {
        "id": "hvq36ioQgvpA"
      }
    },
    {
      "cell_type": "code",
      "source": [
        "import seaborn as sns\n",
        "import matplotlib.pyplot as plt\n",
        "import numpy as np\n",
        "import pandas as pd\n",
        "import io\n",
        "import warnings\n",
        "from sklearn.model_selection import GridSearchCV\n",
        "from sklearn.ensemble import RandomForestClassifier\n",
        "from xgboost import XGBClassifier\n",
        "from sklearn.ensemble import ExtraTreesClassifier\n",
        "from sklearn.preprocessing import StandardScaler\n",
        "from sklearn.model_selection import train_test_split\n",
        "from sklearn.metrics import accuracy_score,classification_report,confusion_matrix,precision_score,recall_score,f1_score\n",
        "from sklearn.metrics import mean_absolute_error, mean_squared_error, r2_score\n",
        "from sklearn.linear_model import LogisticRegression\n",
        "warnings.filterwarnings('ignore')\n",
        "%matplotlib inline\n",
        "plt.rcParams['figure.figsize']=(8,6)\n",
        "sns.set_style('darkgrid')\n"
      ],
      "metadata": {
        "execution": {
          "iopub.status.busy": "2021-06-09T21:36:13.775976Z",
          "iopub.execute_input": "2021-06-09T21:36:13.776302Z",
          "iopub.status.idle": "2021-06-09T21:36:13.784850Z",
          "shell.execute_reply.started": "2021-06-09T21:36:13.776277Z",
          "shell.execute_reply": "2021-06-09T21:36:13.784144Z"
        },
        "trusted": true,
        "id": "tOj2g_-hgvpB"
      },
      "execution_count": 489,
      "outputs": []
    },
    {
      "cell_type": "code",
      "source": [
        "from google.colab import files\n",
        "uploaded = files.upload()\n",
        "print ('Data read into a pandas dataframe!')"
      ],
      "metadata": {
        "colab": {
          "resources": {
            "http://localhost:8080/nbextensions/google.colab/files.js": {
              "data": "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",
              "ok": true,
              "headers": [
                [
                  "content-type",
                  "application/javascript"
                ]
              ],
              "status": 200,
              "status_text": ""
            }
          },
          "base_uri": "https://localhost:8080/",
          "height": 125
        },
        "id": "wsxWfKaUhjdC",
        "outputId": "4cc383d5-5f6c-45a7-bc9d-01af0dc76da9"
      },
      "execution_count": 490,
      "outputs": [
        {
          "output_type": "display_data",
          "data": {
            "text/plain": [
              "<IPython.core.display.HTML object>"
            ],
            "text/html": [
              "\n",
              "     <input type=\"file\" id=\"files-dd1f7c63-818c-4c00-9126-20376d103ec5\" name=\"files[]\" multiple disabled\n",
              "        style=\"border:none\" />\n",
              "     <output id=\"result-dd1f7c63-818c-4c00-9126-20376d103ec5\">\n",
              "      Upload widget is only available when the cell has been executed in the\n",
              "      current browser session. Please rerun this cell to enable.\n",
              "      </output>\n",
              "      <script src=\"/nbextensions/google.colab/files.js\"></script> "
            ]
          },
          "metadata": {}
        },
        {
          "output_type": "stream",
          "name": "stdout",
          "text": [
            "Saving Test_Loan_Home.csv to Test_Loan_Home (7).csv\n",
            "Saving Train_Loan_Home.csv to Train_Loan_Home (7).csv\n",
            "Data read into a pandas dataframe!\n"
          ]
        }
      ]
    },
    {
      "cell_type": "code",
      "source": [
        "df=pd.read_csv(io.BytesIO(uploaded['Train_Loan_Home.csv']))\n",
        "df.head()"
      ],
      "metadata": {
        "colab": {
          "base_uri": "https://localhost:8080/",
          "height": 288
        },
        "id": "NLjJZdgMh_G9",
        "outputId": "99ddc726-cc2a-4d4e-d6fc-a0f17847d45e"
      },
      "execution_count": 491,
      "outputs": [
        {
          "output_type": "execute_result",
          "data": {
            "text/plain": [
              "    Loan_ID Gender Married Dependents     Education Self_Employed  \\\n",
              "0  LP001002   Male      No          0      Graduate            No   \n",
              "1  LP001003   Male     Yes          1      Graduate            No   \n",
              "2  LP001005   Male     Yes          0      Graduate           Yes   \n",
              "3  LP001006   Male     Yes          0  Not Graduate            No   \n",
              "4  LP001008   Male      No          0      Graduate            No   \n",
              "\n",
              "   ApplicantIncome  CoapplicantIncome  LoanAmount  Loan_Amount_Term  \\\n",
              "0             5849                0.0         NaN             360.0   \n",
              "1             4583             1508.0       128.0             360.0   \n",
              "2             3000                0.0        66.0             360.0   \n",
              "3             2583             2358.0       120.0             360.0   \n",
              "4             6000                0.0       141.0             360.0   \n",
              "\n",
              "   Credit_History Property_Area Loan_Status  \n",
              "0             1.0         Urban           Y  \n",
              "1             1.0         Rural           N  \n",
              "2             1.0         Urban           Y  \n",
              "3             1.0         Urban           Y  \n",
              "4             1.0         Urban           Y  "
            ],
            "text/html": [
              "\n",
              "  <div id=\"df-2f7f8ed9-3fbe-449f-ad70-cdc98512a8cb\">\n",
              "    <div class=\"colab-df-container\">\n",
              "      <div>\n",
              "<style scoped>\n",
              "    .dataframe tbody tr th:only-of-type {\n",
              "        vertical-align: middle;\n",
              "    }\n",
              "\n",
              "    .dataframe tbody tr th {\n",
              "        vertical-align: top;\n",
              "    }\n",
              "\n",
              "    .dataframe thead th {\n",
              "        text-align: right;\n",
              "    }\n",
              "</style>\n",
              "<table border=\"1\" class=\"dataframe\">\n",
              "  <thead>\n",
              "    <tr style=\"text-align: right;\">\n",
              "      <th></th>\n",
              "      <th>Loan_ID</th>\n",
              "      <th>Gender</th>\n",
              "      <th>Married</th>\n",
              "      <th>Dependents</th>\n",
              "      <th>Education</th>\n",
              "      <th>Self_Employed</th>\n",
              "      <th>ApplicantIncome</th>\n",
              "      <th>CoapplicantIncome</th>\n",
              "      <th>LoanAmount</th>\n",
              "      <th>Loan_Amount_Term</th>\n",
              "      <th>Credit_History</th>\n",
              "      <th>Property_Area</th>\n",
              "      <th>Loan_Status</th>\n",
              "    </tr>\n",
              "  </thead>\n",
              "  <tbody>\n",
              "    <tr>\n",
              "      <th>0</th>\n",
              "      <td>LP001002</td>\n",
              "      <td>Male</td>\n",
              "      <td>No</td>\n",
              "      <td>0</td>\n",
              "      <td>Graduate</td>\n",
              "      <td>No</td>\n",
              "      <td>5849</td>\n",
              "      <td>0.0</td>\n",
              "      <td>NaN</td>\n",
              "      <td>360.0</td>\n",
              "      <td>1.0</td>\n",
              "      <td>Urban</td>\n",
              "      <td>Y</td>\n",
              "    </tr>\n",
              "    <tr>\n",
              "      <th>1</th>\n",
              "      <td>LP001003</td>\n",
              "      <td>Male</td>\n",
              "      <td>Yes</td>\n",
              "      <td>1</td>\n",
              "      <td>Graduate</td>\n",
              "      <td>No</td>\n",
              "      <td>4583</td>\n",
              "      <td>1508.0</td>\n",
              "      <td>128.0</td>\n",
              "      <td>360.0</td>\n",
              "      <td>1.0</td>\n",
              "      <td>Rural</td>\n",
              "      <td>N</td>\n",
              "    </tr>\n",
              "    <tr>\n",
              "      <th>2</th>\n",
              "      <td>LP001005</td>\n",
              "      <td>Male</td>\n",
              "      <td>Yes</td>\n",
              "      <td>0</td>\n",
              "      <td>Graduate</td>\n",
              "      <td>Yes</td>\n",
              "      <td>3000</td>\n",
              "      <td>0.0</td>\n",
              "      <td>66.0</td>\n",
              "      <td>360.0</td>\n",
              "      <td>1.0</td>\n",
              "      <td>Urban</td>\n",
              "      <td>Y</td>\n",
              "    </tr>\n",
              "    <tr>\n",
              "      <th>3</th>\n",
              "      <td>LP001006</td>\n",
              "      <td>Male</td>\n",
              "      <td>Yes</td>\n",
              "      <td>0</td>\n",
              "      <td>Not Graduate</td>\n",
              "      <td>No</td>\n",
              "      <td>2583</td>\n",
              "      <td>2358.0</td>\n",
              "      <td>120.0</td>\n",
              "      <td>360.0</td>\n",
              "      <td>1.0</td>\n",
              "      <td>Urban</td>\n",
              "      <td>Y</td>\n",
              "    </tr>\n",
              "    <tr>\n",
              "      <th>4</th>\n",
              "      <td>LP001008</td>\n",
              "      <td>Male</td>\n",
              "      <td>No</td>\n",
              "      <td>0</td>\n",
              "      <td>Graduate</td>\n",
              "      <td>No</td>\n",
              "      <td>6000</td>\n",
              "      <td>0.0</td>\n",
              "      <td>141.0</td>\n",
              "      <td>360.0</td>\n",
              "      <td>1.0</td>\n",
              "      <td>Urban</td>\n",
              "      <td>Y</td>\n",
              "    </tr>\n",
              "  </tbody>\n",
              "</table>\n",
              "</div>\n",
              "      <button class=\"colab-df-convert\" onclick=\"convertToInteractive('df-2f7f8ed9-3fbe-449f-ad70-cdc98512a8cb')\"\n",
              "              title=\"Convert this dataframe to an interactive table.\"\n",
              "              style=\"display:none;\">\n",
              "        \n",
              "  <svg xmlns=\"http://www.w3.org/2000/svg\" height=\"24px\"viewBox=\"0 0 24 24\"\n",
              "       width=\"24px\">\n",
              "    <path d=\"M0 0h24v24H0V0z\" fill=\"none\"/>\n",
              "    <path d=\"M18.56 5.44l.94 2.06.94-2.06 2.06-.94-2.06-.94-.94-2.06-.94 2.06-2.06.94zm-11 1L8.5 8.5l.94-2.06 2.06-.94-2.06-.94L8.5 2.5l-.94 2.06-2.06.94zm10 10l.94 2.06.94-2.06 2.06-.94-2.06-.94-.94-2.06-.94 2.06-2.06.94z\"/><path d=\"M17.41 7.96l-1.37-1.37c-.4-.4-.92-.59-1.43-.59-.52 0-1.04.2-1.43.59L10.3 9.45l-7.72 7.72c-.78.78-.78 2.05 0 2.83L4 21.41c.39.39.9.59 1.41.59.51 0 1.02-.2 1.41-.59l7.78-7.78 2.81-2.81c.8-.78.8-2.07 0-2.86zM5.41 20L4 18.59l7.72-7.72 1.47 1.35L5.41 20z\"/>\n",
              "  </svg>\n",
              "      </button>\n",
              "      \n",
              "  <style>\n",
              "    .colab-df-container {\n",
              "      display:flex;\n",
              "      flex-wrap:wrap;\n",
              "      gap: 12px;\n",
              "    }\n",
              "\n",
              "    .colab-df-convert {\n",
              "      background-color: #E8F0FE;\n",
              "      border: none;\n",
              "      border-radius: 50%;\n",
              "      cursor: pointer;\n",
              "      display: none;\n",
              "      fill: #1967D2;\n",
              "      height: 32px;\n",
              "      padding: 0 0 0 0;\n",
              "      width: 32px;\n",
              "    }\n",
              "\n",
              "    .colab-df-convert:hover {\n",
              "      background-color: #E2EBFA;\n",
              "      box-shadow: 0px 1px 2px rgba(60, 64, 67, 0.3), 0px 1px 3px 1px rgba(60, 64, 67, 0.15);\n",
              "      fill: #174EA6;\n",
              "    }\n",
              "\n",
              "    [theme=dark] .colab-df-convert {\n",
              "      background-color: #3B4455;\n",
              "      fill: #D2E3FC;\n",
              "    }\n",
              "\n",
              "    [theme=dark] .colab-df-convert:hover {\n",
              "      background-color: #434B5C;\n",
              "      box-shadow: 0px 1px 3px 1px rgba(0, 0, 0, 0.15);\n",
              "      filter: drop-shadow(0px 1px 2px rgba(0, 0, 0, 0.3));\n",
              "      fill: #FFFFFF;\n",
              "    }\n",
              "  </style>\n",
              "\n",
              "      <script>\n",
              "        const buttonEl =\n",
              "          document.querySelector('#df-2f7f8ed9-3fbe-449f-ad70-cdc98512a8cb button.colab-df-convert');\n",
              "        buttonEl.style.display =\n",
              "          google.colab.kernel.accessAllowed ? 'block' : 'none';\n",
              "\n",
              "        async function convertToInteractive(key) {\n",
              "          const element = document.querySelector('#df-2f7f8ed9-3fbe-449f-ad70-cdc98512a8cb');\n",
              "          const dataTable =\n",
              "            await google.colab.kernel.invokeFunction('convertToInteractive',\n",
              "                                                     [key], {});\n",
              "          if (!dataTable) return;\n",
              "\n",
              "          const docLinkHtml = 'Like what you see? Visit the ' +\n",
              "            '<a target=\"_blank\" href=https://colab.research.google.com/notebooks/data_table.ipynb>data table notebook</a>'\n",
              "            + ' to learn more about interactive tables.';\n",
              "          element.innerHTML = '';\n",
              "          dataTable['output_type'] = 'display_data';\n",
              "          await google.colab.output.renderOutput(dataTable, element);\n",
              "          const docLink = document.createElement('div');\n",
              "          docLink.innerHTML = docLinkHtml;\n",
              "          element.appendChild(docLink);\n",
              "        }\n",
              "      </script>\n",
              "    </div>\n",
              "  </div>\n",
              "  "
            ]
          },
          "metadata": {},
          "execution_count": 491
        }
      ]
    },
    {
      "cell_type": "code",
      "source": [
        "df_test=pd.read_csv(io.BytesIO(uploaded['Test_Loan_Home.csv']))\n",
        "df_test.head()"
      ],
      "metadata": {
        "execution": {
          "iopub.status.busy": "2021-06-09T21:36:13.855178Z",
          "iopub.execute_input": "2021-06-09T21:36:13.855481Z",
          "iopub.status.idle": "2021-06-09T21:36:13.879345Z",
          "shell.execute_reply.started": "2021-06-09T21:36:13.855446Z",
          "shell.execute_reply": "2021-06-09T21:36:13.878214Z"
        },
        "trusted": true,
        "colab": {
          "base_uri": "https://localhost:8080/",
          "height": 288
        },
        "id": "PE7l2SLDgvpC",
        "outputId": "02520343-ab96-4fe4-ce1b-75aff71f89f8"
      },
      "execution_count": 492,
      "outputs": [
        {
          "output_type": "execute_result",
          "data": {
            "text/plain": [
              "    Loan_ID Gender Married Dependents     Education Self_Employed  \\\n",
              "0  LP001015   Male     Yes          0      Graduate            No   \n",
              "1  LP001022   Male     Yes          1      Graduate            No   \n",
              "2  LP001031   Male     Yes          2      Graduate            No   \n",
              "3  LP001035   Male     Yes          2      Graduate            No   \n",
              "4  LP001051   Male      No          0  Not Graduate            No   \n",
              "\n",
              "   ApplicantIncomeMonthly  CoapplicantIncomeMonthly  LoanAmountThousands  \\\n",
              "0                    5720                         0                110.0   \n",
              "1                    3076                      1500                126.0   \n",
              "2                    5000                      1800                208.0   \n",
              "3                    2340                      2546                100.0   \n",
              "4                    3276                         0                 78.0   \n",
              "\n",
              "   Loan_Amount_Term_Months  Credit_History Property_Area  \n",
              "0                    360.0             1.0         Urban  \n",
              "1                    360.0             1.0         Urban  \n",
              "2                    360.0             1.0         Urban  \n",
              "3                    360.0             NaN         Urban  \n",
              "4                    360.0             1.0         Urban  "
            ],
            "text/html": [
              "\n",
              "  <div id=\"df-41127dd6-20ee-4c8a-807f-f8a3c5d00381\">\n",
              "    <div class=\"colab-df-container\">\n",
              "      <div>\n",
              "<style scoped>\n",
              "    .dataframe tbody tr th:only-of-type {\n",
              "        vertical-align: middle;\n",
              "    }\n",
              "\n",
              "    .dataframe tbody tr th {\n",
              "        vertical-align: top;\n",
              "    }\n",
              "\n",
              "    .dataframe thead th {\n",
              "        text-align: right;\n",
              "    }\n",
              "</style>\n",
              "<table border=\"1\" class=\"dataframe\">\n",
              "  <thead>\n",
              "    <tr style=\"text-align: right;\">\n",
              "      <th></th>\n",
              "      <th>Loan_ID</th>\n",
              "      <th>Gender</th>\n",
              "      <th>Married</th>\n",
              "      <th>Dependents</th>\n",
              "      <th>Education</th>\n",
              "      <th>Self_Employed</th>\n",
              "      <th>ApplicantIncomeMonthly</th>\n",
              "      <th>CoapplicantIncomeMonthly</th>\n",
              "      <th>LoanAmountThousands</th>\n",
              "      <th>Loan_Amount_Term_Months</th>\n",
              "      <th>Credit_History</th>\n",
              "      <th>Property_Area</th>\n",
              "    </tr>\n",
              "  </thead>\n",
              "  <tbody>\n",
              "    <tr>\n",
              "      <th>0</th>\n",
              "      <td>LP001015</td>\n",
              "      <td>Male</td>\n",
              "      <td>Yes</td>\n",
              "      <td>0</td>\n",
              "      <td>Graduate</td>\n",
              "      <td>No</td>\n",
              "      <td>5720</td>\n",
              "      <td>0</td>\n",
              "      <td>110.0</td>\n",
              "      <td>360.0</td>\n",
              "      <td>1.0</td>\n",
              "      <td>Urban</td>\n",
              "    </tr>\n",
              "    <tr>\n",
              "      <th>1</th>\n",
              "      <td>LP001022</td>\n",
              "      <td>Male</td>\n",
              "      <td>Yes</td>\n",
              "      <td>1</td>\n",
              "      <td>Graduate</td>\n",
              "      <td>No</td>\n",
              "      <td>3076</td>\n",
              "      <td>1500</td>\n",
              "      <td>126.0</td>\n",
              "      <td>360.0</td>\n",
              "      <td>1.0</td>\n",
              "      <td>Urban</td>\n",
              "    </tr>\n",
              "    <tr>\n",
              "      <th>2</th>\n",
              "      <td>LP001031</td>\n",
              "      <td>Male</td>\n",
              "      <td>Yes</td>\n",
              "      <td>2</td>\n",
              "      <td>Graduate</td>\n",
              "      <td>No</td>\n",
              "      <td>5000</td>\n",
              "      <td>1800</td>\n",
              "      <td>208.0</td>\n",
              "      <td>360.0</td>\n",
              "      <td>1.0</td>\n",
              "      <td>Urban</td>\n",
              "    </tr>\n",
              "    <tr>\n",
              "      <th>3</th>\n",
              "      <td>LP001035</td>\n",
              "      <td>Male</td>\n",
              "      <td>Yes</td>\n",
              "      <td>2</td>\n",
              "      <td>Graduate</td>\n",
              "      <td>No</td>\n",
              "      <td>2340</td>\n",
              "      <td>2546</td>\n",
              "      <td>100.0</td>\n",
              "      <td>360.0</td>\n",
              "      <td>NaN</td>\n",
              "      <td>Urban</td>\n",
              "    </tr>\n",
              "    <tr>\n",
              "      <th>4</th>\n",
              "      <td>LP001051</td>\n",
              "      <td>Male</td>\n",
              "      <td>No</td>\n",
              "      <td>0</td>\n",
              "      <td>Not Graduate</td>\n",
              "      <td>No</td>\n",
              "      <td>3276</td>\n",
              "      <td>0</td>\n",
              "      <td>78.0</td>\n",
              "      <td>360.0</td>\n",
              "      <td>1.0</td>\n",
              "      <td>Urban</td>\n",
              "    </tr>\n",
              "  </tbody>\n",
              "</table>\n",
              "</div>\n",
              "      <button class=\"colab-df-convert\" onclick=\"convertToInteractive('df-41127dd6-20ee-4c8a-807f-f8a3c5d00381')\"\n",
              "              title=\"Convert this dataframe to an interactive table.\"\n",
              "              style=\"display:none;\">\n",
              "        \n",
              "  <svg xmlns=\"http://www.w3.org/2000/svg\" height=\"24px\"viewBox=\"0 0 24 24\"\n",
              "       width=\"24px\">\n",
              "    <path d=\"M0 0h24v24H0V0z\" fill=\"none\"/>\n",
              "    <path d=\"M18.56 5.44l.94 2.06.94-2.06 2.06-.94-2.06-.94-.94-2.06-.94 2.06-2.06.94zm-11 1L8.5 8.5l.94-2.06 2.06-.94-2.06-.94L8.5 2.5l-.94 2.06-2.06.94zm10 10l.94 2.06.94-2.06 2.06-.94-2.06-.94-.94-2.06-.94 2.06-2.06.94z\"/><path d=\"M17.41 7.96l-1.37-1.37c-.4-.4-.92-.59-1.43-.59-.52 0-1.04.2-1.43.59L10.3 9.45l-7.72 7.72c-.78.78-.78 2.05 0 2.83L4 21.41c.39.39.9.59 1.41.59.51 0 1.02-.2 1.41-.59l7.78-7.78 2.81-2.81c.8-.78.8-2.07 0-2.86zM5.41 20L4 18.59l7.72-7.72 1.47 1.35L5.41 20z\"/>\n",
              "  </svg>\n",
              "      </button>\n",
              "      \n",
              "  <style>\n",
              "    .colab-df-container {\n",
              "      display:flex;\n",
              "      flex-wrap:wrap;\n",
              "      gap: 12px;\n",
              "    }\n",
              "\n",
              "    .colab-df-convert {\n",
              "      background-color: #E8F0FE;\n",
              "      border: none;\n",
              "      border-radius: 50%;\n",
              "      cursor: pointer;\n",
              "      display: none;\n",
              "      fill: #1967D2;\n",
              "      height: 32px;\n",
              "      padding: 0 0 0 0;\n",
              "      width: 32px;\n",
              "    }\n",
              "\n",
              "    .colab-df-convert:hover {\n",
              "      background-color: #E2EBFA;\n",
              "      box-shadow: 0px 1px 2px rgba(60, 64, 67, 0.3), 0px 1px 3px 1px rgba(60, 64, 67, 0.15);\n",
              "      fill: #174EA6;\n",
              "    }\n",
              "\n",
              "    [theme=dark] .colab-df-convert {\n",
              "      background-color: #3B4455;\n",
              "      fill: #D2E3FC;\n",
              "    }\n",
              "\n",
              "    [theme=dark] .colab-df-convert:hover {\n",
              "      background-color: #434B5C;\n",
              "      box-shadow: 0px 1px 3px 1px rgba(0, 0, 0, 0.15);\n",
              "      filter: drop-shadow(0px 1px 2px rgba(0, 0, 0, 0.3));\n",
              "      fill: #FFFFFF;\n",
              "    }\n",
              "  </style>\n",
              "\n",
              "      <script>\n",
              "        const buttonEl =\n",
              "          document.querySelector('#df-41127dd6-20ee-4c8a-807f-f8a3c5d00381 button.colab-df-convert');\n",
              "        buttonEl.style.display =\n",
              "          google.colab.kernel.accessAllowed ? 'block' : 'none';\n",
              "\n",
              "        async function convertToInteractive(key) {\n",
              "          const element = document.querySelector('#df-41127dd6-20ee-4c8a-807f-f8a3c5d00381');\n",
              "          const dataTable =\n",
              "            await google.colab.kernel.invokeFunction('convertToInteractive',\n",
              "                                                     [key], {});\n",
              "          if (!dataTable) return;\n",
              "\n",
              "          const docLinkHtml = 'Like what you see? Visit the ' +\n",
              "            '<a target=\"_blank\" href=https://colab.research.google.com/notebooks/data_table.ipynb>data table notebook</a>'\n",
              "            + ' to learn more about interactive tables.';\n",
              "          element.innerHTML = '';\n",
              "          dataTable['output_type'] = 'display_data';\n",
              "          await google.colab.output.renderOutput(dataTable, element);\n",
              "          const docLink = document.createElement('div');\n",
              "          docLink.innerHTML = docLinkHtml;\n",
              "          element.appendChild(docLink);\n",
              "        }\n",
              "      </script>\n",
              "    </div>\n",
              "  </div>\n",
              "  "
            ]
          },
          "metadata": {},
          "execution_count": 492
        }
      ]
    },
    {
      "cell_type": "markdown",
      "source": [
        "# Understanding the Data"
      ],
      "metadata": {
        "id": "FDqQS6EHgvpD"
      }
    },
    {
      "cell_type": "code",
      "source": [
        "df.shape,df_test.shape"
      ],
      "metadata": {
        "execution": {
          "iopub.status.busy": "2021-06-09T21:36:13.880762Z",
          "iopub.execute_input": "2021-06-09T21:36:13.881027Z",
          "iopub.status.idle": "2021-06-09T21:36:13.887086Z",
          "shell.execute_reply.started": "2021-06-09T21:36:13.881000Z",
          "shell.execute_reply": "2021-06-09T21:36:13.885859Z"
        },
        "trusted": true,
        "colab": {
          "base_uri": "https://localhost:8080/"
        },
        "id": "_Ge4ZB4TgvpD",
        "outputId": "9113fcfb-7745-4ac4-d6ca-cac741eedf87"
      },
      "execution_count": 493,
      "outputs": [
        {
          "output_type": "execute_result",
          "data": {
            "text/plain": [
              "((614, 13), (367, 12))"
            ]
          },
          "metadata": {},
          "execution_count": 493
        }
      ]
    },
    {
      "cell_type": "markdown",
      "source": [
        "The training dataset has 614 rows and 13 columns and the test dataset has 367 rows and 12 columns"
      ],
      "metadata": {
        "id": "bwYHBD09gvpE"
      }
    },
    {
      "cell_type": "markdown",
      "source": [
        "**Information about the training and test dataset**"
      ],
      "metadata": {
        "id": "8BtRcjuhgvpE"
      }
    },
    {
      "cell_type": "code",
      "source": [
        "df.info()"
      ],
      "metadata": {
        "execution": {
          "iopub.status.busy": "2021-06-09T21:36:13.893894Z",
          "iopub.execute_input": "2021-06-09T21:36:13.894263Z",
          "iopub.status.idle": "2021-06-09T21:36:13.910712Z",
          "shell.execute_reply.started": "2021-06-09T21:36:13.894227Z",
          "shell.execute_reply": "2021-06-09T21:36:13.909055Z"
        },
        "trusted": true,
        "colab": {
          "base_uri": "https://localhost:8080/"
        },
        "id": "Vjdq-X87gvpF",
        "outputId": "07a470b4-81f5-4a65-ee94-e7d7888d3e78"
      },
      "execution_count": 494,
      "outputs": [
        {
          "output_type": "stream",
          "name": "stdout",
          "text": [
            "<class 'pandas.core.frame.DataFrame'>\n",
            "RangeIndex: 614 entries, 0 to 613\n",
            "Data columns (total 13 columns):\n",
            " #   Column             Non-Null Count  Dtype  \n",
            "---  ------             --------------  -----  \n",
            " 0   Loan_ID            614 non-null    object \n",
            " 1   Gender             601 non-null    object \n",
            " 2   Married            611 non-null    object \n",
            " 3   Dependents         599 non-null    object \n",
            " 4   Education          614 non-null    object \n",
            " 5   Self_Employed      582 non-null    object \n",
            " 6   ApplicantIncome    614 non-null    int64  \n",
            " 7   CoapplicantIncome  614 non-null    float64\n",
            " 8   LoanAmount         592 non-null    float64\n",
            " 9   Loan_Amount_Term   600 non-null    float64\n",
            " 10  Credit_History     564 non-null    float64\n",
            " 11  Property_Area      614 non-null    object \n",
            " 12  Loan_Status        614 non-null    object \n",
            "dtypes: float64(4), int64(1), object(8)\n",
            "memory usage: 62.5+ KB\n"
          ]
        }
      ]
    },
    {
      "cell_type": "code",
      "source": [
        "df_test.info()"
      ],
      "metadata": {
        "execution": {
          "iopub.status.busy": "2021-06-09T21:36:13.912654Z",
          "iopub.execute_input": "2021-06-09T21:36:13.913011Z",
          "iopub.status.idle": "2021-06-09T21:36:13.930994Z",
          "shell.execute_reply.started": "2021-06-09T21:36:13.912979Z",
          "shell.execute_reply": "2021-06-09T21:36:13.930494Z"
        },
        "trusted": true,
        "colab": {
          "base_uri": "https://localhost:8080/"
        },
        "id": "wpaXU_OcgvpF",
        "outputId": "9a982f8c-d06f-4e79-e23a-f33c35795974"
      },
      "execution_count": 495,
      "outputs": [
        {
          "output_type": "stream",
          "name": "stdout",
          "text": [
            "<class 'pandas.core.frame.DataFrame'>\n",
            "RangeIndex: 367 entries, 0 to 366\n",
            "Data columns (total 12 columns):\n",
            " #   Column                    Non-Null Count  Dtype  \n",
            "---  ------                    --------------  -----  \n",
            " 0   Loan_ID                   367 non-null    object \n",
            " 1   Gender                    356 non-null    object \n",
            " 2   Married                   367 non-null    object \n",
            " 3   Dependents                357 non-null    object \n",
            " 4   Education                 367 non-null    object \n",
            " 5   Self_Employed             344 non-null    object \n",
            " 6   ApplicantIncomeMonthly    367 non-null    int64  \n",
            " 7   CoapplicantIncomeMonthly  367 non-null    int64  \n",
            " 8   LoanAmountThousands       362 non-null    float64\n",
            " 9   Loan_Amount_Term_Months   361 non-null    float64\n",
            " 10  Credit_History            338 non-null    float64\n",
            " 11  Property_Area             367 non-null    object \n",
            "dtypes: float64(3), int64(2), object(7)\n",
            "memory usage: 34.5+ KB\n"
          ]
        }
      ]
    },
    {
      "cell_type": "markdown",
      "source": [
        "**Checking the Data types of each features**"
      ],
      "metadata": {
        "id": "MNpbp756gvpF"
      }
    },
    {
      "cell_type": "code",
      "source": [
        "df.dtypes"
      ],
      "metadata": {
        "execution": {
          "iopub.status.busy": "2021-06-09T21:36:13.932081Z",
          "iopub.execute_input": "2021-06-09T21:36:13.932346Z",
          "iopub.status.idle": "2021-06-09T21:36:13.947697Z",
          "shell.execute_reply.started": "2021-06-09T21:36:13.932318Z",
          "shell.execute_reply": "2021-06-09T21:36:13.946655Z"
        },
        "trusted": true,
        "colab": {
          "base_uri": "https://localhost:8080/"
        },
        "id": "RqRbWXwbgvpG",
        "outputId": "79fde9f7-812d-4758-e133-43913f6349b0"
      },
      "execution_count": 496,
      "outputs": [
        {
          "output_type": "execute_result",
          "data": {
            "text/plain": [
              "Loan_ID               object\n",
              "Gender                object\n",
              "Married               object\n",
              "Dependents            object\n",
              "Education             object\n",
              "Self_Employed         object\n",
              "ApplicantIncome        int64\n",
              "CoapplicantIncome    float64\n",
              "LoanAmount           float64\n",
              "Loan_Amount_Term     float64\n",
              "Credit_History       float64\n",
              "Property_Area         object\n",
              "Loan_Status           object\n",
              "dtype: object"
            ]
          },
          "metadata": {},
          "execution_count": 496
        }
      ]
    },
    {
      "cell_type": "code",
      "source": [
        "df_test.dtypes"
      ],
      "metadata": {
        "execution": {
          "iopub.status.busy": "2021-06-09T21:36:13.953833Z",
          "iopub.execute_input": "2021-06-09T21:36:13.954303Z",
          "iopub.status.idle": "2021-06-09T21:36:13.963480Z",
          "shell.execute_reply.started": "2021-06-09T21:36:13.954276Z",
          "shell.execute_reply": "2021-06-09T21:36:13.962511Z"
        },
        "trusted": true,
        "colab": {
          "base_uri": "https://localhost:8080/"
        },
        "id": "Wwtu_-eagvpG",
        "outputId": "e26cf671-9d09-4e6e-fa40-b33a3bcd99bd"
      },
      "execution_count": 497,
      "outputs": [
        {
          "output_type": "execute_result",
          "data": {
            "text/plain": [
              "Loan_ID                      object\n",
              "Gender                       object\n",
              "Married                      object\n",
              "Dependents                   object\n",
              "Education                    object\n",
              "Self_Employed                object\n",
              "ApplicantIncomeMonthly        int64\n",
              "CoapplicantIncomeMonthly      int64\n",
              "LoanAmountThousands         float64\n",
              "Loan_Amount_Term_Months     float64\n",
              "Credit_History              float64\n",
              "Property_Area                object\n",
              "dtype: object"
            ]
          },
          "metadata": {},
          "execution_count": 497
        }
      ]
    },
    {
      "cell_type": "markdown",
      "source": [
        "**Checking for null values**"
      ],
      "metadata": {
        "id": "dWVShy4_gvpG"
      }
    },
    {
      "cell_type": "code",
      "source": [
        "df.isnull().sum()"
      ],
      "metadata": {
        "execution": {
          "iopub.status.busy": "2021-06-09T21:36:14.025282Z",
          "iopub.execute_input": "2021-06-09T21:36:14.025544Z",
          "iopub.status.idle": "2021-06-09T21:36:14.033882Z",
          "shell.execute_reply.started": "2021-06-09T21:36:14.025522Z",
          "shell.execute_reply": "2021-06-09T21:36:14.032561Z"
        },
        "trusted": true,
        "colab": {
          "base_uri": "https://localhost:8080/"
        },
        "id": "au1J7Y4ugvpG",
        "outputId": "55e05c22-40e9-4fd8-b2db-6337513c86df"
      },
      "execution_count": 498,
      "outputs": [
        {
          "output_type": "execute_result",
          "data": {
            "text/plain": [
              "Loan_ID               0\n",
              "Gender               13\n",
              "Married               3\n",
              "Dependents           15\n",
              "Education             0\n",
              "Self_Employed        32\n",
              "ApplicantIncome       0\n",
              "CoapplicantIncome     0\n",
              "LoanAmount           22\n",
              "Loan_Amount_Term     14\n",
              "Credit_History       50\n",
              "Property_Area         0\n",
              "Loan_Status           0\n",
              "dtype: int64"
            ]
          },
          "metadata": {},
          "execution_count": 498
        }
      ]
    },
    {
      "cell_type": "code",
      "source": [
        "df_test.isnull().sum()"
      ],
      "metadata": {
        "execution": {
          "iopub.status.busy": "2021-06-09T21:36:14.035894Z",
          "iopub.execute_input": "2021-06-09T21:36:14.036291Z",
          "iopub.status.idle": "2021-06-09T21:36:14.050926Z",
          "shell.execute_reply.started": "2021-06-09T21:36:14.036253Z",
          "shell.execute_reply": "2021-06-09T21:36:14.050132Z"
        },
        "trusted": true,
        "colab": {
          "base_uri": "https://localhost:8080/"
        },
        "id": "_10nAyUogvpH",
        "outputId": "907f8fef-2bcb-42e1-cca4-40bc4c0acca1"
      },
      "execution_count": 499,
      "outputs": [
        {
          "output_type": "execute_result",
          "data": {
            "text/plain": [
              "Loan_ID                      0\n",
              "Gender                      11\n",
              "Married                      0\n",
              "Dependents                  10\n",
              "Education                    0\n",
              "Self_Employed               23\n",
              "ApplicantIncomeMonthly       0\n",
              "CoapplicantIncomeMonthly     0\n",
              "LoanAmountThousands          5\n",
              "Loan_Amount_Term_Months      6\n",
              "Credit_History              29\n",
              "Property_Area                0\n",
              "dtype: int64"
            ]
          },
          "metadata": {},
          "execution_count": 499
        }
      ]
    },
    {
      "cell_type": "markdown",
      "source": [
        "**Heatmap to identify the features having null values**"
      ],
      "metadata": {
        "id": "jlPwn058gvpH"
      }
    },
    {
      "cell_type": "code",
      "source": [
        "sns.heatmap(df.isnull(),yticklabels=False)"
      ],
      "metadata": {
        "execution": {
          "iopub.status.busy": "2021-06-09T21:36:14.052595Z",
          "iopub.execute_input": "2021-06-09T21:36:14.052857Z",
          "iopub.status.idle": "2021-06-09T21:36:14.346806Z",
          "shell.execute_reply.started": "2021-06-09T21:36:14.052830Z",
          "shell.execute_reply": "2021-06-09T21:36:14.345890Z"
        },
        "trusted": true,
        "colab": {
          "base_uri": "https://localhost:8080/",
          "height": 482
        },
        "id": "SoPhU7NSgvpH",
        "outputId": "40b40852-44f0-4c4d-98ad-ba3176154401"
      },
      "execution_count": 500,
      "outputs": [
        {
          "output_type": "execute_result",
          "data": {
            "text/plain": [
              "<matplotlib.axes._subplots.AxesSubplot at 0x7fa198f5d510>"
            ]
          },
          "metadata": {},
          "execution_count": 500
        },
        {
          "output_type": "display_data",
          "data": {
            "text/plain": [
              "<Figure size 576x432 with 2 Axes>"
            ],
            "image/png": "[encoded data removed]"
          },
          "metadata": {}
        }
      ]
    },
    {
      "cell_type": "markdown",
      "source": [
        "#3. Exploratory Data Analysis"
      ],
      "metadata": {
        "id": "d_uJo4J5gvpH"
      }
    },
    {
      "cell_type": "code",
      "source": [
        "#dropping the unnecessary column\n",
        "df.drop('Loan_ID',axis=1,inplace=True)\n",
        "df_test_id=df_test['Loan_ID']\n",
        "df_test.drop('Loan_ID',axis=1,inplace=True)"
      ],
      "metadata": {
        "execution": {
          "iopub.status.busy": "2021-06-09T21:36:14.349281Z",
          "iopub.execute_input": "2021-06-09T21:36:14.349791Z",
          "iopub.status.idle": "2021-06-09T21:36:14.357031Z",
          "shell.execute_reply.started": "2021-06-09T21:36:14.349762Z",
          "shell.execute_reply": "2021-06-09T21:36:14.356149Z"
        },
        "trusted": true,
        "id": "ijyOnASigvpI"
      },
      "execution_count": 501,
      "outputs": []
    },
    {
      "cell_type": "code",
      "source": [
        "X=df.drop('Loan_Status',axis=1)\n",
        "y=df['Loan_Status']"
      ],
      "metadata": {
        "execution": {
          "iopub.status.busy": "2021-06-09T21:36:14.358150Z",
          "iopub.execute_input": "2021-06-09T21:36:14.358502Z",
          "iopub.status.idle": "2021-06-09T21:36:14.375308Z",
          "shell.execute_reply.started": "2021-06-09T21:36:14.358465Z",
          "shell.execute_reply": "2021-06-09T21:36:14.374099Z"
        },
        "trusted": true,
        "id": "27fyzSO6gvpI"
      },
      "execution_count": 502,
      "outputs": []
    },
    {
      "cell_type": "code",
      "source": [
        "#separating all the categorical features and numerical features\n",
        "categorical_features=[]\n",
        "numerical_features=[]\n",
        "for i in X.columns.tolist():\n",
        "    if X[i].dtype=='object':\n",
        "        categorical_features.append(i)\n",
        "    else:\n",
        "        numerical_features.append(i)"
      ],
      "metadata": {
        "execution": {
          "iopub.status.busy": "2021-06-09T21:36:14.376484Z",
          "iopub.execute_input": "2021-06-09T21:36:14.376856Z",
          "iopub.status.idle": "2021-06-09T21:36:14.392312Z",
          "shell.execute_reply.started": "2021-06-09T21:36:14.376823Z",
          "shell.execute_reply": "2021-06-09T21:36:14.391515Z"
        },
        "trusted": true,
        "id": "3SOroN8wgvpI"
      },
      "execution_count": 503,
      "outputs": []
    },
    {
      "cell_type": "code",
      "source": [
        "categorical_features"
      ],
      "metadata": {
        "execution": {
          "iopub.status.busy": "2021-06-09T21:36:14.394205Z",
          "iopub.execute_input": "2021-06-09T21:36:14.394413Z",
          "iopub.status.idle": "2021-06-09T21:36:14.410227Z",
          "shell.execute_reply.started": "2021-06-09T21:36:14.394392Z",
          "shell.execute_reply": "2021-06-09T21:36:14.409670Z"
        },
        "trusted": true,
        "colab": {
          "base_uri": "https://localhost:8080/"
        },
        "id": "zAO2nFGTgvpI",
        "outputId": "6f81ed1f-ad5f-44e8-d6d4-8feb0a670963"
      },
      "execution_count": 504,
      "outputs": [
        {
          "output_type": "execute_result",
          "data": {
            "text/plain": [
              "['Gender',\n",
              " 'Married',\n",
              " 'Dependents',\n",
              " 'Education',\n",
              " 'Self_Employed',\n",
              " 'Property_Area']"
            ]
          },
          "metadata": {},
          "execution_count": 504
        }
      ]
    },
    {
      "cell_type": "code",
      "source": [
        "numerical_features"
      ],
      "metadata": {
        "execution": {
          "iopub.status.busy": "2021-06-09T21:36:14.411256Z",
          "iopub.execute_input": "2021-06-09T21:36:14.411527Z",
          "iopub.status.idle": "2021-06-09T21:36:14.423053Z",
          "shell.execute_reply.started": "2021-06-09T21:36:14.411506Z",
          "shell.execute_reply": "2021-06-09T21:36:14.422613Z"
        },
        "trusted": true,
        "colab": {
          "base_uri": "https://localhost:8080/"
        },
        "id": "rdolJiXTgvpJ",
        "outputId": "2cadfde5-08c3-4067-b0da-cfd612609411"
      },
      "execution_count": 505,
      "outputs": [
        {
          "output_type": "execute_result",
          "data": {
            "text/plain": [
              "['ApplicantIncome',\n",
              " 'CoapplicantIncome',\n",
              " 'LoanAmount',\n",
              " 'Loan_Amount_Term',\n",
              " 'Credit_History']"
            ]
          },
          "metadata": {},
          "execution_count": 505
        }
      ]
    },
    {
      "cell_type": "markdown",
      "source": [
        "# Univariate Analysis"
      ],
      "metadata": {
        "id": "KzWgqAC5gvpJ"
      }
    },
    {
      "cell_type": "code",
      "source": [
        "df['Loan_Status'].value_counts()"
      ],
      "metadata": {
        "execution": {
          "iopub.status.busy": "2021-06-09T21:36:14.423849Z",
          "iopub.execute_input": "2021-06-09T21:36:14.424123Z",
          "iopub.status.idle": "2021-06-09T21:36:14.437551Z",
          "shell.execute_reply.started": "2021-06-09T21:36:14.424088Z",
          "shell.execute_reply": "2021-06-09T21:36:14.437059Z"
        },
        "trusted": true,
        "colab": {
          "base_uri": "https://localhost:8080/"
        },
        "id": "v5jc0UM1gvpJ",
        "outputId": "78978f00-2bd0-4346-ba78-33ad99618090"
      },
      "execution_count": 506,
      "outputs": [
        {
          "output_type": "execute_result",
          "data": {
            "text/plain": [
              "Y    422\n",
              "N    192\n",
              "Name: Loan_Status, dtype: int64"
            ]
          },
          "metadata": {},
          "execution_count": 506
        }
      ]
    },
    {
      "cell_type": "code",
      "source": [
        "df['Loan_Status'].value_counts(normalize=True).plot(kind='bar')\n",
        "plt.xlabel('Loan Status')"
      ],
      "metadata": {
        "execution": {
          "iopub.status.busy": "2021-06-09T21:36:14.438330Z",
          "iopub.execute_input": "2021-06-09T21:36:14.438594Z",
          "iopub.status.idle": "2021-06-09T21:36:14.564570Z",
          "shell.execute_reply.started": "2021-06-09T21:36:14.438574Z",
          "shell.execute_reply": "2021-06-09T21:36:14.563627Z"
        },
        "trusted": true,
        "colab": {
          "base_uri": "https://localhost:8080/",
          "height": 403
        },
        "id": "CYKaxNxLgvpJ",
        "outputId": "3434d982-bbe7-44c1-dc40-22f4ae3fee07"
      },
      "execution_count": 507,
      "outputs": [
        {
          "output_type": "execute_result",
          "data": {
            "text/plain": [
              "Text(0.5, 0, 'Loan Status')"
            ]
          },
          "metadata": {},
          "execution_count": 507
        },
        {
          "output_type": "display_data",
          "data": {
            "text/plain": [
              "<Figure size 576x432 with 1 Axes>"
            ],
            "image/png": "[encoded data removed]"
          },
          "metadata": {}
        }
      ]
    },
    {
      "cell_type": "markdown",
      "source": [
        "**Di antara 614 pelanggan, pinjaman yang disetujui sebanyak 422 pelanggan (~70%)**"
      ],
      "metadata": {
        "id": "axepKwxAgvpJ"
      }
    },
    {
      "cell_type": "code",
      "source": [
        "for i in categorical_features:\n",
        "    print('Feature: ',i)\n",
        "    print(X[i].value_counts(normalize=True))\n",
        "    X[i].value_counts(normalize=True).plot(kind='bar')\n",
        "    plt.xlabel(i)\n",
        "    plt.show()\n",
        "    print('\\n')"
      ],
      "metadata": {
        "execution": {
          "iopub.status.busy": "2021-06-09T21:36:14.565672Z",
          "iopub.execute_input": "2021-06-09T21:36:14.565866Z",
          "iopub.status.idle": "2021-06-09T21:36:15.289519Z",
          "shell.execute_reply.started": "2021-06-09T21:36:14.565846Z",
          "shell.execute_reply": "2021-06-09T21:36:15.288741Z"
        },
        "trusted": true,
        "colab": {
          "base_uri": "https://localhost:8080/",
          "height": 1000
        },
        "id": "f_794gxLgvpJ",
        "outputId": "cd58cde1-8b52-41d1-b6f3-b42e315cb383"
      },
      "execution_count": 508,
      "outputs": [
        {
          "output_type": "stream",
          "name": "stdout",
          "text": [
            "Feature:  Gender\n",
            "Male      0.813644\n",
            "Female    0.186356\n",
            "Name: Gender, dtype: float64\n"
          ]
        },
        {
          "output_type": "display_data",
          "data": {
            "text/plain": [
              "<Figure size 576x432 with 1 Axes>"
            ],
            "image/png": "[encoded data removed]"
          },
          "metadata": {}
        },
        {
          "output_type": "stream",
          "name": "stdout",
          "text": [
            "\n",
            "\n",
            "Feature:  Married\n",
            "Yes    0.651391\n",
            "No     0.348609\n",
            "Name: Married, dtype: float64\n"
          ]
        },
        {
          "output_type": "display_data",
          "data": {
            "text/plain": [
              "<Figure size 576x432 with 1 Axes>"
            ],
            "image/png": "[encoded data removed]"
          },
          "metadata": {}
        },
        {
          "output_type": "stream",
          "name": "stdout",
          "text": [
            "\n",
            "\n",
            "Feature:  Dependents\n",
            "0     0.575960\n",
            "1     0.170284\n",
            "2     0.168614\n",
            "3+    0.085142\n",
            "Name: Dependents, dtype: float64\n"
          ]
        },
        {
          "output_type": "display_data",
          "data": {
            "text/plain": [
              "<Figure size 576x432 with 1 Axes>"
            ],
            "image/png": "[encoded data removed]"
          },
          "metadata": {}
        },
        {
          "output_type": "stream",
          "name": "stdout",
          "text": [
            "\n",
            "\n",
            "Feature:  Education\n",
            "Graduate        0.781759\n",
            "Not Graduate    0.218241\n",
            "Name: Education, dtype: float64\n"
          ]
        },
        {
          "output_type": "display_data",
          "data": {
            "text/plain": [
              "<Figure size 576x432 with 1 Axes>"
            ],
            "image/png": "[encoded data removed]"
          },
          "metadata": {}
        },
        {
          "output_type": "stream",
          "name": "stdout",
          "text": [
            "\n",
            "\n",
            "Feature:  Self_Employed\n",
            "No     0.859107\n",
            "Yes    0.140893\n",
            "Name: Self_Employed, dtype: float64\n"
          ]
        },
        {
          "output_type": "display_data",
          "data": {
            "text/plain": [
              "<Figure size 576x432 with 1 Axes>"
            ],
            "image/png": "[encoded data removed]"
          },
          "metadata": {}
        },
        {
          "output_type": "stream",
          "name": "stdout",
          "text": [
            "\n",
            "\n",
            "Feature:  Property_Area\n",
            "Semiurban    0.379479\n",
            "Urban        0.328990\n",
            "Rural        0.291531\n",
            "Name: Property_Area, dtype: float64\n"
          ]
        },
        {
          "output_type": "display_data",
          "data": {
            "text/plain": [
              "<Figure size 576x432 with 1 Axes>"
            ],
            "image/png": "[encoded data removed]"
          },
          "metadata": {}
        },
        {
          "output_type": "stream",
          "name": "stdout",
          "text": [
            "\n",
            "\n"
          ]
        }
      ]
    },
    {
      "cell_type": "markdown",
      "source": [
        "Dari visualisasi di atas dapat disimpulkan bahwa:\n",
        "1. Sekitar 81% pelanggan adalah Pria.\n",
        "2. 65% pelanggan Menikah.\n",
        "3. Sebagian besar nasabah tidak memiliki tanggungan.\n",
        "4. 78% pelanggan adalah yang edukasinya graduate (berpendidikan).\n",
        "5. Hanya 14% pelanggan yang bekerja sendiri.\n",
        "6. 38% pelanggan berasal dari daerah semi-perkotaan, 33% dari daerah perkotaan, 29% dari daerah pedesaan"
      ],
      "metadata": {
        "id": "Kp4ggqABgvpK"
      }
    },
    {
      "cell_type": "markdown",
      "source": [
        "**Numerical Features**"
      ],
      "metadata": {
        "id": "YxwudaofgvpK"
      }
    },
    {
      "cell_type": "code",
      "source": [
        "sns.distplot(X['ApplicantIncome'],bins=50,kde=True)\n",
        "plt.show()\n",
        "X['ApplicantIncome'].plot(kind='box')\n",
        "plt.show()"
      ],
      "metadata": {
        "execution": {
          "iopub.status.busy": "2021-06-09T21:36:15.290540Z",
          "iopub.execute_input": "2021-06-09T21:36:15.290825Z",
          "iopub.status.idle": "2021-06-09T21:36:15.626794Z",
          "shell.execute_reply.started": "2021-06-09T21:36:15.290792Z",
          "shell.execute_reply": "2021-06-09T21:36:15.626309Z"
        },
        "trusted": true,
        "colab": {
          "base_uri": "https://localhost:8080/",
          "height": 745
        },
        "id": "QEVaKe8IgvpK",
        "outputId": "165c40fc-5c1e-42e2-8f11-83d02ea5864d"
      },
      "execution_count": 509,
      "outputs": [
        {
          "output_type": "display_data",
          "data": {
            "text/plain": [
              "<Figure size 576x432 with 1 Axes>"
            ],
            "image/png": "[encoded data removed]"
          },
          "metadata": {}
        },
        {
          "output_type": "display_data",
          "data": {
            "text/plain": [
              "<Figure size 576x432 with 1 Axes>"
            ],
            "image/png": "[encoded data removed]"
          },
          "metadata": {}
        }
      ]
    },
    {
      "cell_type": "markdown",
      "source": [
        "Dari visualisasi di atas dapat disimpulkan bahwa:\n",
        "1. Fitur Pendapatan Pemohon tidak mengikuti distribusi normal, Sebagian Besar Pendapatan berkisar antara 0-20.000\n",
        "2. Boxplot pasti menunjukkan bahwa fitur tersebut memiliki banyak Outlier. Hal ini disebabkan oleh label pendapatan yang berbeda dari pelanggan yang berbeda.\n",
        "  Kami dapat mengelompokkan pendapatan pelanggan dengan label pendidikan mereka"
      ],
      "metadata": {
        "id": "Y67iwY2VgvpK"
      }
    },
    {
      "cell_type": "code",
      "source": [
        "X.boxplot(column='ApplicantIncome',by='Education')"
      ],
      "metadata": {
        "execution": {
          "iopub.status.busy": "2021-06-09T21:36:15.627632Z",
          "iopub.execute_input": "2021-06-09T21:36:15.627953Z",
          "iopub.status.idle": "2021-06-09T21:36:15.768107Z",
          "shell.execute_reply.started": "2021-06-09T21:36:15.627918Z",
          "shell.execute_reply": "2021-06-09T21:36:15.767634Z"
        },
        "trusted": true,
        "colab": {
          "base_uri": "https://localhost:8080/",
          "height": 437
        },
        "id": "yn87jTMwgvpK",
        "outputId": "7249f915-ce17-4903-d08b-090d81a7a20b"
      },
      "execution_count": 510,
      "outputs": [
        {
          "output_type": "execute_result",
          "data": {
            "text/plain": [
              "<matplotlib.axes._subplots.AxesSubplot at 0x7fa198ab2610>"
            ]
          },
          "metadata": {},
          "execution_count": 510
        },
        {
          "output_type": "display_data",
          "data": {
            "text/plain": [
              "<Figure size 576x432 with 1 Axes>"
            ],
            "image/png": "[encoded data removed]"
          },
          "metadata": {}
        }
      ]
    },
    {
      "cell_type": "markdown",
      "source": [
        "Sebagian besar Pelanggan yang lulusan akademik memiliki pendapatan yang sangat tinggi"
      ],
      "metadata": {
        "id": "cCc0aof6gvpL"
      }
    },
    {
      "cell_type": "code",
      "source": [
        "sns.distplot(X['CoapplicantIncome'],kde=True)\n",
        "plt.show()\n",
        "X.boxplot(column='CoapplicantIncome')\n",
        "plt.show()"
      ],
      "metadata": {
        "execution": {
          "iopub.status.busy": "2021-06-09T21:36:15.768899Z",
          "iopub.execute_input": "2021-06-09T21:36:15.769204Z",
          "iopub.status.idle": "2021-06-09T21:36:16.081128Z",
          "shell.execute_reply.started": "2021-06-09T21:36:15.769172Z",
          "shell.execute_reply": "2021-06-09T21:36:16.080647Z"
        },
        "trusted": true,
        "colab": {
          "base_uri": "https://localhost:8080/",
          "height": 745
        },
        "id": "EqcrhnbLgvpL",
        "outputId": "badc3fa1-674d-482b-b068-95d366dfcc20"
      },
      "execution_count": 511,
      "outputs": [
        {
          "output_type": "display_data",
          "data": {
            "text/plain": [
              "<Figure size 576x432 with 1 Axes>"
            ],
            "image/png": "[encoded data removed]"
          },
          "metadata": {}
        },
        {
          "output_type": "display_data",
          "data": {
            "text/plain": [
              "<Figure size 576x432 with 1 Axes>"
            ],
            "image/png": "[encoded data removed]"
          },
          "metadata": {}
        }
      ]
    },
    {
      "cell_type": "markdown",
      "source": [
        "1. Fitur ini memiliki Right Skewed Distribution dan sebagian besar CoapplicantIncome berkisar antara 0-6000\n",
        "2. Fitur ini memiliki beberapa outlier"
      ],
      "metadata": {
        "id": "ssW3omEkgvpL"
      }
    },
    {
      "cell_type": "code",
      "source": [
        "sns.distplot(X['LoanAmount'],kde=True)\n",
        "plt.show()\n",
        "X['LoanAmount'].plot(kind='box')\n",
        "plt.show()"
      ],
      "metadata": {
        "execution": {
          "iopub.status.busy": "2021-06-09T21:36:16.081932Z",
          "iopub.execute_input": "2021-06-09T21:36:16.082253Z",
          "iopub.status.idle": "2021-06-09T21:36:16.623371Z",
          "shell.execute_reply.started": "2021-06-09T21:36:16.082218Z",
          "shell.execute_reply": "2021-06-09T21:36:16.622622Z"
        },
        "trusted": true,
        "colab": {
          "base_uri": "https://localhost:8080/",
          "height": 745
        },
        "id": "SqPa2HY6gvpL",
        "outputId": "406b3250-9773-4f31-858b-9d1048095a08"
      },
      "execution_count": 512,
      "outputs": [
        {
          "output_type": "display_data",
          "data": {
            "text/plain": [
              "<Figure size 576x432 with 1 Axes>"
            ],
            "image/png": "[encoded data removed]"
          },
          "metadata": {}
        },
        {
          "output_type": "display_data",
          "data": {
            "text/plain": [
              "<Figure size 576x432 with 1 Axes>"
            ],
            "image/png": "[encoded data removed]"
          },
          "metadata": {}
        }
      ]
    },
    {
      "cell_type": "markdown",
      "source": [
        "Fitur LoanAmount mengikuti Right Skewed Distribution dan memiliki banyak Outlier"
      ],
      "metadata": {
        "id": "ibfYcB2QgvpL"
      }
    },
    {
      "cell_type": "code",
      "source": [
        "X['Loan_Amount_Term'].value_counts(normalize=True).plot(kind='bar')\n",
        "plt.xlabel('Loan Amount Term')"
      ],
      "metadata": {
        "execution": {
          "iopub.status.busy": "2021-06-09T21:36:16.624302Z",
          "iopub.execute_input": "2021-06-09T21:36:16.624618Z",
          "iopub.status.idle": "2021-06-09T21:36:16.797846Z",
          "shell.execute_reply.started": "2021-06-09T21:36:16.624584Z",
          "shell.execute_reply": "2021-06-09T21:36:16.797332Z"
        },
        "trusted": true,
        "colab": {
          "base_uri": "https://localhost:8080/",
          "height": 424
        },
        "id": "hooFluEBgvpL",
        "outputId": "98e1eabd-c225-4114-a0ae-3568cac491d3"
      },
      "execution_count": 513,
      "outputs": [
        {
          "output_type": "execute_result",
          "data": {
            "text/plain": [
              "Text(0.5, 0, 'Loan Amount Term')"
            ]
          },
          "metadata": {},
          "execution_count": 513
        },
        {
          "output_type": "display_data",
          "data": {
            "text/plain": [
              "<Figure size 576x432 with 1 Axes>"
            ],
            "image/png": "[encoded data removed]"
          },
          "metadata": {}
        }
      ]
    },
    {
      "cell_type": "markdown",
      "source": [
        "Sekitar 85% pinjaman memiliki 360 sebagai loan amount term"
      ],
      "metadata": {
        "id": "8dqGYtXDgvpM"
      }
    },
    {
      "cell_type": "markdown",
      "source": [
        "# Bivariate Analysis"
      ],
      "metadata": {
        "id": "mlTMIV5EgvpM"
      }
    },
    {
      "cell_type": "code",
      "source": [
        "gender=pd.crosstab(df['Gender'],df['Loan_Status'])\n",
        "gender.div(gender.sum(axis=1),axis=0).plot(kind='bar',stacked=True)\n",
        "plt.show()\n",
        "married=pd.crosstab(df['Married'],df['Loan_Status'])\n",
        "married.div(married.sum(axis=1),axis=0).plot(kind='bar',stacked=True)\n",
        "plt.show()\n",
        "dependents=pd.crosstab(df['Dependents'],df['Loan_Status'])\n",
        "dependents.div(dependents.sum(axis=1),axis=0).plot(kind='bar',stacked=True)\n",
        "plt.show()\n",
        "education=pd.crosstab(df['Education'],df['Loan_Status'])\n",
        "education.div(education.sum(axis=1),axis=0).plot(kind='bar',stacked=True)\n",
        "plt.show()\n",
        "self_employed=pd.crosstab(df['Self_Employed'],df['Loan_Status'])\n",
        "self_employed.div(self_employed.sum(axis=1),axis=0).plot(kind='bar',stacked=True)\n",
        "plt.show()\n",
        "property_area=pd.crosstab(df['Property_Area'],df['Loan_Status'])\n",
        "property_area.div(property_area.sum(axis=1),axis=0).plot(kind='bar',stacked=True)\n",
        "plt.show()\n",
        "credit_history=pd.crosstab(df['Credit_History'],df['Loan_Status'])\n",
        "credit_history.div(credit_history.sum(axis=1),axis=0).plot(kind='bar',stacked=True)\n",
        "plt.show()"
      ],
      "metadata": {
        "execution": {
          "iopub.status.busy": "2021-06-09T21:36:16.798719Z",
          "iopub.execute_input": "2021-06-09T21:36:16.799020Z",
          "iopub.status.idle": "2021-06-09T21:36:17.786216Z",
          "shell.execute_reply.started": "2021-06-09T21:36:16.798985Z",
          "shell.execute_reply": "2021-06-09T21:36:17.785650Z"
        },
        "trusted": true,
        "colab": {
          "base_uri": "https://localhost:8080/",
          "height": 1000
        },
        "id": "vasJXdzkgvpM",
        "outputId": "6a5efcf8-db3c-4960-c9aa-97f9e9527dcc"
      },
      "execution_count": 514,
      "outputs": [
        {
          "output_type": "display_data",
          "data": {
            "text/plain": [
              "<Figure size 576x432 with 1 Axes>"
            ],
            "image/png": "[encoded data removed]"
          },
          "metadata": {}
        },
        {
          "output_type": "display_data",
          "data": {
            "text/plain": [
              "<Figure size 576x432 with 1 Axes>"
            ],
            "image/png": "[encoded data removed]"
          },
          "metadata": {}
        },
        {
          "output_type": "display_data",
          "data": {
            "text/plain": [
              "<Figure size 576x432 with 1 Axes>"
            ],
            "image/png": "[encoded data removed]"
          },
          "metadata": {}
        },
        {
          "output_type": "display_data",
          "data": {
            "text/plain": [
              "<Figure size 576x432 with 1 Axes>"
            ],
            "image/png": "[encoded data removed]"
          },
          "metadata": {}
        },
        {
          "output_type": "display_data",
          "data": {
            "text/plain": [
              "<Figure size 576x432 with 1 Axes>"
            ],
            "image/png": "[encoded data removed]"
          },
          "metadata": {}
        },
        {
          "output_type": "display_data",
          "data": {
            "text/plain": [
              "<Figure size 576x432 with 1 Axes>"
            ],
            "image/png": "[encoded data removed]"
          },
          "metadata": {}
        },
        {
          "output_type": "display_data",
          "data": {
            "text/plain": [
              "<Figure size 576x432 with 1 Axes>"
            ],
            "image/png": "[encoded data removed]"
          },
          "metadata": {}
        }
      ]
    },
    {
      "cell_type": "markdown",
      "source": [
        "Dari visualisasi di atas, poin-poin berikut dapat disimpulkan:\n",
        "1. Persentase pelanggan wanita dan pria yang mendapatkan persetujuan pinjaman sama.\n",
        "2. Pelanggan yang sudah menikah kemungkinan besar untuk mendapatkan persetujuan pinjaman.\n",
        "3. Nasabah yang memiliki tanggungan 1 dan 3+ memiliki kesempatan lebih besar untuk mendapatkan persetujuan pinjaman.\n",
        "4. Pelanggan lulusan akademik lebih mungkin untuk mendapatkan persetujuan pinjaman.\n",
        "5. Persentase pelanggan yang bekerja sendiri dan tidak bekerja, mendapatkan persetujuan pinjaman adalah sama.\n",
        "6. Nasabah dari daerah semi urban memiliki kesempatan lebih besar untuk mendapatkan persetujuan pinjaman.\n",
        "7. Pelanggan dengan skor kredit 1 lebih mungkin untuk mendapatkan persetujuan pinjaman."
      ],
      "metadata": {
        "id": "9jieF04OgvpM"
      }
    },
    {
      "cell_type": "markdown",
      "source": [
        "#4. Data Preprocessing"
      ],
      "metadata": {
        "id": "GIjeocREujaC"
      }
    },
    {
      "cell_type": "markdown",
      "source": [
        "# Handling Missing Values"
      ],
      "metadata": {
        "id": "-BJFIbkJgvpM"
      }
    },
    {
      "cell_type": "code",
      "source": [
        "print('Missing Values: ')\n",
        "df.isnull().sum()"
      ],
      "metadata": {
        "execution": {
          "iopub.status.busy": "2021-06-09T21:36:17.789553Z",
          "iopub.execute_input": "2021-06-09T21:36:17.789923Z",
          "iopub.status.idle": "2021-06-09T21:36:17.800525Z",
          "shell.execute_reply.started": "2021-06-09T21:36:17.789890Z",
          "shell.execute_reply": "2021-06-09T21:36:17.799672Z"
        },
        "trusted": true,
        "colab": {
          "base_uri": "https://localhost:8080/"
        },
        "id": "r2xlQTjPgvpM",
        "outputId": "60949291-f4ac-4c71-d0e9-88ec55621c0a"
      },
      "execution_count": 515,
      "outputs": [
        {
          "output_type": "stream",
          "name": "stdout",
          "text": [
            "Missing Values: \n"
          ]
        },
        {
          "output_type": "execute_result",
          "data": {
            "text/plain": [
              "Gender               13\n",
              "Married               3\n",
              "Dependents           15\n",
              "Education             0\n",
              "Self_Employed        32\n",
              "ApplicantIncome       0\n",
              "CoapplicantIncome     0\n",
              "LoanAmount           22\n",
              "Loan_Amount_Term     14\n",
              "Credit_History       50\n",
              "Property_Area         0\n",
              "Loan_Status           0\n",
              "dtype: int64"
            ]
          },
          "metadata": {},
          "execution_count": 515
        }
      ]
    },
    {
      "cell_type": "markdown",
      "source": [
        "Untuk menangani nilai null:\n",
        "1. Untuk Fitur Categorical nilai null akan diganti dengan nilai mode.\n",
        "2. Untuk fitur Numerical nilai null akan diganti dengan mean atau nilai median."
      ],
      "metadata": {
        "id": "SDfQOu6mgvpM"
      }
    },
    {
      "cell_type": "code",
      "source": [
        "X[\"Gender\"].replace(np.nan,X['Gender'].mode()[0],inplace=True)\n",
        "X['Married'].replace(np.nan,X['Married'].mode()[0],inplace=True)\n",
        "X['Dependents'].replace(np.nan,X['Dependents'].mode()[0],inplace=True)\n",
        "X['Self_Employed'].replace(np.nan,X['Self_Employed'].mode()[0],inplace=True)\n",
        "X['Loan_Amount_Term'].replace(np.nan,X['Loan_Amount_Term'].mode()[0],inplace=True)\n",
        "X['Credit_History'].replace(np.nan,X['Credit_History'].mode()[0],inplace=True)"
      ],
      "metadata": {
        "execution": {
          "iopub.status.busy": "2021-06-09T21:36:17.802736Z",
          "iopub.execute_input": "2021-06-09T21:36:17.802991Z",
          "iopub.status.idle": "2021-06-09T21:36:17.814904Z",
          "shell.execute_reply.started": "2021-06-09T21:36:17.802964Z",
          "shell.execute_reply": "2021-06-09T21:36:17.813832Z"
        },
        "trusted": true,
        "id": "TYNyiEKVgvpN"
      },
      "execution_count": 516,
      "outputs": []
    },
    {
      "cell_type": "markdown",
      "source": [
        "\n",
        "Karena fitur Loan Amount memiliki banyak outlier, kami akan mengganti nilai null dengan median"
      ],
      "metadata": {
        "id": "osAwAhaYgvpN"
      }
    },
    {
      "cell_type": "code",
      "source": [
        "X['LoanAmount'].replace(np.nan,X['LoanAmount'].median(),inplace=True)"
      ],
      "metadata": {
        "execution": {
          "iopub.status.busy": "2021-06-09T21:36:17.816190Z",
          "iopub.execute_input": "2021-06-09T21:36:17.816443Z",
          "iopub.status.idle": "2021-06-09T21:36:17.824313Z",
          "shell.execute_reply.started": "2021-06-09T21:36:17.816418Z",
          "shell.execute_reply": "2021-06-09T21:36:17.823438Z"
        },
        "trusted": true,
        "id": "Iug7llqigvpN"
      },
      "execution_count": 517,
      "outputs": []
    },
    {
      "cell_type": "code",
      "source": [
        "X.isnull().sum()"
      ],
      "metadata": {
        "execution": {
          "iopub.status.busy": "2021-06-09T21:36:17.825413Z",
          "iopub.execute_input": "2021-06-09T21:36:17.825665Z",
          "iopub.status.idle": "2021-06-09T21:36:17.839063Z",
          "shell.execute_reply.started": "2021-06-09T21:36:17.825640Z",
          "shell.execute_reply": "2021-06-09T21:36:17.838178Z"
        },
        "trusted": true,
        "colab": {
          "base_uri": "https://localhost:8080/"
        },
        "id": "umG_t9A2gvpN",
        "outputId": "847feb89-170e-4e71-a193-54521ba81488"
      },
      "execution_count": 518,
      "outputs": [
        {
          "output_type": "execute_result",
          "data": {
            "text/plain": [
              "Gender               0\n",
              "Married              0\n",
              "Dependents           0\n",
              "Education            0\n",
              "Self_Employed        0\n",
              "ApplicantIncome      0\n",
              "CoapplicantIncome    0\n",
              "LoanAmount           0\n",
              "Loan_Amount_Term     0\n",
              "Credit_History       0\n",
              "Property_Area        0\n",
              "dtype: int64"
            ]
          },
          "metadata": {},
          "execution_count": 518
        }
      ]
    },
    {
      "cell_type": "markdown",
      "source": [
        "**Semua nilai null telah dihapus**"
      ],
      "metadata": {
        "id": "2so0zEymgvpN"
      }
    },
    {
      "cell_type": "markdown",
      "source": [
        "# Outlier Treatment"
      ],
      "metadata": {
        "id": "r5ix8OS-gvpN"
      }
    },
    {
      "cell_type": "markdown",
      "source": [
        "\n",
        "Karena fitur Loan Amount mengikuti right skewed distribution, kami akan melakukan transformasi log untuk mendapatkan distribusi normal, karena model akan memberikan kinerja yang lebih baik pada distribusi normal\n",
        "Transformasi log yang sama akan diterapkan pada data pengujian"
      ],
      "metadata": {
        "id": "wuT5i--ogvpN"
      }
    },
    {
      "cell_type": "code",
      "source": [
        "X['LoanAmount_Log']=np.log(X['LoanAmount'])\n",
        "sns.distplot(X['LoanAmount_Log'],bins=50)"
      ],
      "metadata": {
        "execution": {
          "iopub.status.busy": "2021-06-09T21:36:17.840065Z",
          "iopub.execute_input": "2021-06-09T21:36:17.840367Z",
          "iopub.status.idle": "2021-06-09T21:36:18.092491Z",
          "shell.execute_reply.started": "2021-06-09T21:36:17.840336Z",
          "shell.execute_reply": "2021-06-09T21:36:18.091454Z"
        },
        "trusted": true,
        "colab": {
          "base_uri": "https://localhost:8080/",
          "height": 406
        },
        "id": "wq_qdDVDgvpN",
        "outputId": "90c3989d-e0b5-421c-b2f7-67f3f541bee1"
      },
      "execution_count": 519,
      "outputs": [
        {
          "output_type": "execute_result",
          "data": {
            "text/plain": [
              "<matplotlib.axes._subplots.AxesSubplot at 0x7fa1997c7690>"
            ]
          },
          "metadata": {},
          "execution_count": 519
        },
        {
          "output_type": "display_data",
          "data": {
            "text/plain": [
              "<Figure size 576x432 with 1 Axes>"
            ],
            "image/png": "[encoded data removed]"
          },
          "metadata": {}
        }
      ]
    },
    {
      "cell_type": "markdown",
      "source": [
        "The log transformation of the Loan Amount feature follows normal distribution"
      ],
      "metadata": {
        "id": "4kPym2SCgvpO"
      }
    },
    {
      "cell_type": "code",
      "source": [
        "#dropping the Loan Amount feature\n",
        "X.drop('LoanAmount',axis=1,inplace=True)"
      ],
      "metadata": {
        "execution": {
          "iopub.status.busy": "2021-06-09T21:36:18.093979Z",
          "iopub.execute_input": "2021-06-09T21:36:18.094343Z",
          "iopub.status.idle": "2021-06-09T21:36:18.099399Z",
          "shell.execute_reply.started": "2021-06-09T21:36:18.094310Z",
          "shell.execute_reply": "2021-06-09T21:36:18.098704Z"
        },
        "trusted": true,
        "id": "HgZUBzBGgvpO"
      },
      "execution_count": 520,
      "outputs": []
    },
    {
      "cell_type": "markdown",
      "source": [
        "# Feature Engineering"
      ],
      "metadata": {
        "id": "agP5aw-SgvpO"
      }
    },
    {
      "cell_type": "markdown",
      "source": [
        "# Converting all the categorical varibales into numerical varibales"
      ],
      "metadata": {
        "id": "IbFMQbq0gvpO"
      }
    },
    {
      "cell_type": "code",
      "source": [
        "categorical_features=['Gender','Married','Dependents','Education','Self_Employed','Property_Area','Loan_Amount_Term',\n",
        " 'Credit_History']\n",
        "from sklearn.preprocessing import LabelEncoder\n",
        "le=LabelEncoder()\n",
        "for i in categorical_features:\n",
        "    X[i]=le.fit_transform(X[i])"
      ],
      "metadata": {
        "execution": {
          "iopub.status.busy": "2021-06-09T21:36:18.100329Z",
          "iopub.execute_input": "2021-06-09T21:36:18.100571Z",
          "iopub.status.idle": "2021-06-09T21:36:18.118062Z",
          "shell.execute_reply.started": "2021-06-09T21:36:18.100549Z",
          "shell.execute_reply": "2021-06-09T21:36:18.117334Z"
        },
        "trusted": true,
        "id": "bIxogzWGgvpO"
      },
      "execution_count": 521,
      "outputs": []
    },
    {
      "cell_type": "code",
      "source": [
        "X.head()"
      ],
      "metadata": {
        "execution": {
          "iopub.status.busy": "2021-06-09T21:36:18.119107Z",
          "iopub.execute_input": "2021-06-09T21:36:18.119427Z",
          "iopub.status.idle": "2021-06-09T21:36:18.142241Z",
          "shell.execute_reply.started": "2021-06-09T21:36:18.119393Z",
          "shell.execute_reply": "2021-06-09T21:36:18.141391Z"
        },
        "trusted": true,
        "colab": {
          "base_uri": "https://localhost:8080/",
          "height": 250
        },
        "id": "mG2HDBB_gvpO",
        "outputId": "287373d2-c6ef-4cbf-e786-a5f5f4784308"
      },
      "execution_count": 522,
      "outputs": [
        {
          "output_type": "execute_result",
          "data": {
            "text/plain": [
              "   Gender  Married  Dependents  Education  Self_Employed  ApplicantIncome  \\\n",
              "0       1        0           0          0              0             5849   \n",
              "1       1        1           1          0              0             4583   \n",
              "2       1        1           0          0              1             3000   \n",
              "3       1        1           0          1              0             2583   \n",
              "4       1        0           0          0              0             6000   \n",
              "\n",
              "   CoapplicantIncome  Loan_Amount_Term  Credit_History  Property_Area  \\\n",
              "0                0.0                 8               1              2   \n",
              "1             1508.0                 8               1              0   \n",
              "2                0.0                 8               1              2   \n",
              "3             2358.0                 8               1              2   \n",
              "4                0.0                 8               1              2   \n",
              "\n",
              "   LoanAmount_Log  \n",
              "0        4.852030  \n",
              "1        4.852030  \n",
              "2        4.189655  \n",
              "3        4.787492  \n",
              "4        4.948760  "
            ],
            "text/html": [
              "\n",
              "  <div id=\"df-4762cacb-45b1-49ef-9c86-bebadf17c29e\">\n",
              "    <div class=\"colab-df-container\">\n",
              "      <div>\n",
              "<style scoped>\n",
              "    .dataframe tbody tr th:only-of-type {\n",
              "        vertical-align: middle;\n",
              "    }\n",
              "\n",
              "    .dataframe tbody tr th {\n",
              "        vertical-align: top;\n",
              "    }\n",
              "\n",
              "    .dataframe thead th {\n",
              "        text-align: right;\n",
              "    }\n",
              "</style>\n",
              "<table border=\"1\" class=\"dataframe\">\n",
              "  <thead>\n",
              "    <tr style=\"text-align: right;\">\n",
              "      <th></th>\n",
              "      <th>Gender</th>\n",
              "      <th>Married</th>\n",
              "      <th>Dependents</th>\n",
              "      <th>Education</th>\n",
              "      <th>Self_Employed</th>\n",
              "      <th>ApplicantIncome</th>\n",
              "      <th>CoapplicantIncome</th>\n",
              "      <th>Loan_Amount_Term</th>\n",
              "      <th>Credit_History</th>\n",
              "      <th>Property_Area</th>\n",
              "      <th>LoanAmount_Log</th>\n",
              "    </tr>\n",
              "  </thead>\n",
              "  <tbody>\n",
              "    <tr>\n",
              "      <th>0</th>\n",
              "      <td>1</td>\n",
              "      <td>0</td>\n",
              "      <td>0</td>\n",
              "      <td>0</td>\n",
              "      <td>0</td>\n",
              "      <td>5849</td>\n",
              "      <td>0.0</td>\n",
              "      <td>8</td>\n",
              "      <td>1</td>\n",
              "      <td>2</td>\n",
              "      <td>4.852030</td>\n",
              "    </tr>\n",
              "    <tr>\n",
              "      <th>1</th>\n",
              "      <td>1</td>\n",
              "      <td>1</td>\n",
              "      <td>1</td>\n",
              "      <td>0</td>\n",
              "      <td>0</td>\n",
              "      <td>4583</td>\n",
              "      <td>1508.0</td>\n",
              "      <td>8</td>\n",
              "      <td>1</td>\n",
              "      <td>0</td>\n",
              "      <td>4.852030</td>\n",
              "    </tr>\n",
              "    <tr>\n",
              "      <th>2</th>\n",
              "      <td>1</td>\n",
              "      <td>1</td>\n",
              "      <td>0</td>\n",
              "      <td>0</td>\n",
              "      <td>1</td>\n",
              "      <td>3000</td>\n",
              "      <td>0.0</td>\n",
              "      <td>8</td>\n",
              "      <td>1</td>\n",
              "      <td>2</td>\n",
              "      <td>4.189655</td>\n",
              "    </tr>\n",
              "    <tr>\n",
              "      <th>3</th>\n",
              "      <td>1</td>\n",
              "      <td>1</td>\n",
              "      <td>0</td>\n",
              "      <td>1</td>\n",
              "      <td>0</td>\n",
              "      <td>2583</td>\n",
              "      <td>2358.0</td>\n",
              "      <td>8</td>\n",
              "      <td>1</td>\n",
              "      <td>2</td>\n",
              "      <td>4.787492</td>\n",
              "    </tr>\n",
              "    <tr>\n",
              "      <th>4</th>\n",
              "      <td>1</td>\n",
              "      <td>0</td>\n",
              "      <td>0</td>\n",
              "      <td>0</td>\n",
              "      <td>0</td>\n",
              "      <td>6000</td>\n",
              "      <td>0.0</td>\n",
              "      <td>8</td>\n",
              "      <td>1</td>\n",
              "      <td>2</td>\n",
              "      <td>4.948760</td>\n",
              "    </tr>\n",
              "  </tbody>\n",
              "</table>\n",
              "</div>\n",
              "      <button class=\"colab-df-convert\" onclick=\"convertToInteractive('df-4762cacb-45b1-49ef-9c86-bebadf17c29e')\"\n",
              "              title=\"Convert this dataframe to an interactive table.\"\n",
              "              style=\"display:none;\">\n",
              "        \n",
              "  <svg xmlns=\"http://www.w3.org/2000/svg\" height=\"24px\"viewBox=\"0 0 24 24\"\n",
              "       width=\"24px\">\n",
              "    <path d=\"M0 0h24v24H0V0z\" fill=\"none\"/>\n",
              "    <path d=\"M18.56 5.44l.94 2.06.94-2.06 2.06-.94-2.06-.94-.94-2.06-.94 2.06-2.06.94zm-11 1L8.5 8.5l.94-2.06 2.06-.94-2.06-.94L8.5 2.5l-.94 2.06-2.06.94zm10 10l.94 2.06.94-2.06 2.06-.94-2.06-.94-.94-2.06-.94 2.06-2.06.94z\"/><path d=\"M17.41 7.96l-1.37-1.37c-.4-.4-.92-.59-1.43-.59-.52 0-1.04.2-1.43.59L10.3 9.45l-7.72 7.72c-.78.78-.78 2.05 0 2.83L4 21.41c.39.39.9.59 1.41.59.51 0 1.02-.2 1.41-.59l7.78-7.78 2.81-2.81c.8-.78.8-2.07 0-2.86zM5.41 20L4 18.59l7.72-7.72 1.47 1.35L5.41 20z\"/>\n",
              "  </svg>\n",
              "      </button>\n",
              "      \n",
              "  <style>\n",
              "    .colab-df-container {\n",
              "      display:flex;\n",
              "      flex-wrap:wrap;\n",
              "      gap: 12px;\n",
              "    }\n",
              "\n",
              "    .colab-df-convert {\n",
              "      background-color: #E8F0FE;\n",
              "      border: none;\n",
              "      border-radius: 50%;\n",
              "      cursor: pointer;\n",
              "      display: none;\n",
              "      fill: #1967D2;\n",
              "      height: 32px;\n",
              "      padding: 0 0 0 0;\n",
              "      width: 32px;\n",
              "    }\n",
              "\n",
              "    .colab-df-convert:hover {\n",
              "      background-color: #E2EBFA;\n",
              "      box-shadow: 0px 1px 2px rgba(60, 64, 67, 0.3), 0px 1px 3px 1px rgba(60, 64, 67, 0.15);\n",
              "      fill: #174EA6;\n",
              "    }\n",
              "\n",
              "    [theme=dark] .colab-df-convert {\n",
              "      background-color: #3B4455;\n",
              "      fill: #D2E3FC;\n",
              "    }\n",
              "\n",
              "    [theme=dark] .colab-df-convert:hover {\n",
              "      background-color: #434B5C;\n",
              "      box-shadow: 0px 1px 3px 1px rgba(0, 0, 0, 0.15);\n",
              "      filter: drop-shadow(0px 1px 2px rgba(0, 0, 0, 0.3));\n",
              "      fill: #FFFFFF;\n",
              "    }\n",
              "  </style>\n",
              "\n",
              "      <script>\n",
              "        const buttonEl =\n",
              "          document.querySelector('#df-4762cacb-45b1-49ef-9c86-bebadf17c29e button.colab-df-convert');\n",
              "        buttonEl.style.display =\n",
              "          google.colab.kernel.accessAllowed ? 'block' : 'none';\n",
              "\n",
              "        async function convertToInteractive(key) {\n",
              "          const element = document.querySelector('#df-4762cacb-45b1-49ef-9c86-bebadf17c29e');\n",
              "          const dataTable =\n",
              "            await google.colab.kernel.invokeFunction('convertToInteractive',\n",
              "                                                     [key], {});\n",
              "          if (!dataTable) return;\n",
              "\n",
              "          const docLinkHtml = 'Like what you see? Visit the ' +\n",
              "            '<a target=\"_blank\" href=https://colab.research.google.com/notebooks/data_table.ipynb>data table notebook</a>'\n",
              "            + ' to learn more about interactive tables.';\n",
              "          element.innerHTML = '';\n",
              "          dataTable['output_type'] = 'display_data';\n",
              "          await google.colab.output.renderOutput(dataTable, element);\n",
              "          const docLink = document.createElement('div');\n",
              "          docLink.innerHTML = docLinkHtml;\n",
              "          element.appendChild(docLink);\n",
              "        }\n",
              "      </script>\n",
              "    </div>\n",
              "  </div>\n",
              "  "
            ]
          },
          "metadata": {},
          "execution_count": 522
        }
      ]
    },
    {
      "cell_type": "markdown",
      "source": [
        "# Feature Selection"
      ],
      "metadata": {
        "id": "yHPZZ0LCgvpO"
      }
    },
    {
      "cell_type": "markdown",
      "source": [
        "# Correlation Matrix"
      ],
      "metadata": {
        "id": "TUnbLKE2gvpO"
      }
    },
    {
      "cell_type": "code",
      "source": [
        "plt.figure(figsize=(10,8))\n",
        "sns.heatmap(X.corr(),annot=True,fmt='.2f',cmap='Blues')"
      ],
      "metadata": {
        "execution": {
          "iopub.status.busy": "2021-06-09T21:36:18.143318Z",
          "iopub.execute_input": "2021-06-09T21:36:18.143505Z",
          "iopub.status.idle": "2021-06-09T21:36:18.792819Z",
          "shell.execute_reply.started": "2021-06-09T21:36:18.143485Z",
          "shell.execute_reply": "2021-06-09T21:36:18.792334Z"
        },
        "trusted": true,
        "colab": {
          "base_uri": "https://localhost:8080/",
          "height": 591
        },
        "id": "ptrcjLXagvpP",
        "outputId": "e4ab9dc9-e479-4038-b81d-1cc5c89ad013"
      },
      "execution_count": 523,
      "outputs": [
        {
          "output_type": "execute_result",
          "data": {
            "text/plain": [
              "<matplotlib.axes._subplots.AxesSubplot at 0x7fa198ad7790>"
            ]
          },
          "metadata": {},
          "execution_count": 523
        },
        {
          "output_type": "display_data",
          "data": {
            "text/plain": [
              "<Figure size 720x576 with 2 Axes>"
            ],
            "image/png": "[encoded data removed]"
          },
          "metadata": {}
        }
      ]
    },
    {
      "cell_type": "markdown",
      "source": [
        "# Feature Importance"
      ],
      "metadata": {
        "id": "-kSKb0sMgvpP"
      }
    },
    {
      "cell_type": "code",
      "source": [
        "\n",
        "etc=ExtraTreesClassifier(n_estimators=100)\n",
        "etc.fit(X,y)\n",
        "values=pd.Series(etc.feature_importances_)"
      ],
      "metadata": {
        "execution": {
          "iopub.status.busy": "2021-06-09T21:36:18.793568Z",
          "iopub.execute_input": "2021-06-09T21:36:18.793841Z",
          "iopub.status.idle": "2021-06-09T21:36:18.932355Z",
          "shell.execute_reply.started": "2021-06-09T21:36:18.793820Z",
          "shell.execute_reply": "2021-06-09T21:36:18.931818Z"
        },
        "trusted": true,
        "id": "jam-E5hugvpP"
      },
      "execution_count": 524,
      "outputs": []
    },
    {
      "cell_type": "code",
      "source": [
        "values.index=X.columns\n",
        "values.sort_values(ascending=False).plot(kind='barh')"
      ],
      "metadata": {
        "execution": {
          "iopub.status.busy": "2021-06-09T21:36:18.933096Z",
          "iopub.execute_input": "2021-06-09T21:36:18.933417Z",
          "iopub.status.idle": "2021-06-09T21:36:19.107199Z",
          "shell.execute_reply.started": "2021-06-09T21:36:18.933394Z",
          "shell.execute_reply": "2021-06-09T21:36:19.106306Z"
        },
        "trusted": true,
        "colab": {
          "base_uri": "https://localhost:8080/",
          "height": 391
        },
        "id": "xCp5bNFTgvpP",
        "outputId": "0a8ef8a1-0a6f-4418-f540-3690d441cf26"
      },
      "execution_count": 525,
      "outputs": [
        {
          "output_type": "execute_result",
          "data": {
            "text/plain": [
              "<matplotlib.axes._subplots.AxesSubplot at 0x7fa199913a90>"
            ]
          },
          "metadata": {},
          "execution_count": 525
        },
        {
          "output_type": "display_data",
          "data": {
            "text/plain": [
              "<Figure size 576x432 with 1 Axes>"
            ],
            "image/png": "[encoded data removed]"
          },
          "metadata": {}
        }
      ]
    },
    {
      "cell_type": "markdown",
      "source": [
        "Dari diagram di atas jelas bahwa Credit History merupakan fitur terpenting dalam dataset yang berarti nasabah yang telah melunasi utang sebelumnya memiliki peluang lebih besar untuk mendapatkan persetujuan pinjaman."
      ],
      "metadata": {
        "id": "o_IAEaa_gvpP"
      }
    },
    {
      "cell_type": "markdown",
      "source": [
        "# Normalization of the Dataset"
      ],
      "metadata": {
        "id": "j6eTawjygvpP"
      }
    },
    {
      "cell_type": "code",
      "source": [
        "\n",
        "X_norm=StandardScaler().fit_transform(X)\n",
        "X_norm[0:5]"
      ],
      "metadata": {
        "execution": {
          "iopub.status.busy": "2021-06-09T21:36:19.108022Z",
          "iopub.execute_input": "2021-06-09T21:36:19.108250Z",
          "iopub.status.idle": "2021-06-09T21:36:19.117916Z",
          "shell.execute_reply.started": "2021-06-09T21:36:19.108223Z",
          "shell.execute_reply": "2021-06-09T21:36:19.116924Z"
        },
        "trusted": true,
        "colab": {
          "base_uri": "https://localhost:8080/"
        },
        "id": "NPYESyZogvpP",
        "outputId": "70c0da8e-c1c0-4043-d0ea-6ac414335c2a"
      },
      "execution_count": 526,
      "outputs": [
        {
          "output_type": "execute_result",
          "data": {
            "text/plain": [
              "array([[ 0.47234264, -1.37208932, -0.73780632, -0.52836225, -0.39260074,\n",
              "         0.07299082, -0.55448733,  0.29977577,  0.41173269,  1.22329839,\n",
              "        -0.01053273],\n",
              "       [ 0.47234264,  0.72881553,  0.25346957, -0.52836225, -0.39260074,\n",
              "        -0.13441195, -0.03873155,  0.29977577,  0.41173269, -1.31851281,\n",
              "        -0.01053273],\n",
              "       [ 0.47234264,  0.72881553, -0.73780632, -0.52836225,  2.54711697,\n",
              "        -0.39374734, -0.55448733,  0.29977577,  0.41173269,  1.22329839,\n",
              "        -1.34706757],\n",
              "       [ 0.47234264,  0.72881553, -0.73780632,  1.89264089, -0.39260074,\n",
              "        -0.46206247,  0.2519796 ,  0.29977577,  0.41173269,  1.22329839,\n",
              "        -0.14075792],\n",
              "       [ 0.47234264, -1.37208932, -0.73780632, -0.52836225, -0.39260074,\n",
              "         0.09772844, -0.55448733,  0.29977577,  0.41173269,  1.22329839,\n",
              "         0.18464737]])"
            ]
          },
          "metadata": {},
          "execution_count": 526
        }
      ]
    },
    {
      "cell_type": "markdown",
      "source": [
        "#5. Modeling"
      ],
      "metadata": {
        "id": "tYLJphwLgvpP"
      }
    },
    {
      "cell_type": "markdown",
      "source": [
        "The following steps to be followed:\n",
        "1. Apply all the changes in test dataset\n",
        "2. Separate the training dataset into train data and validation data\n",
        "3. Apply different Machine Learning Classification Algorithm to train the data\n",
        "4. Check the performance matrix based on the output of the Validation dataset\n",
        "5. Apply the best Model into the test data"
      ],
      "metadata": {
        "id": "EjmUDF-UgvpQ"
      }
    },
    {
      "cell_type": "markdown",
      "source": [
        "# Applying all the changes in the Test dataset"
      ],
      "metadata": {
        "id": "RhgXXysNgvpQ"
      }
    },
    {
      "cell_type": "code",
      "source": [
        "df_test.head()"
      ],
      "metadata": {
        "execution": {
          "iopub.status.busy": "2021-06-09T21:36:19.120083Z",
          "iopub.execute_input": "2021-06-09T21:36:19.120319Z",
          "iopub.status.idle": "2021-06-09T21:36:19.142534Z",
          "shell.execute_reply.started": "2021-06-09T21:36:19.120297Z",
          "shell.execute_reply": "2021-06-09T21:36:19.141694Z"
        },
        "trusted": true,
        "colab": {
          "base_uri": "https://localhost:8080/",
          "height": 288
        },
        "id": "uC7k39r1gvpQ",
        "outputId": "ee231420-b525-4d58-fef7-92a9f2d87666"
      },
      "execution_count": 527,
      "outputs": [
        {
          "output_type": "execute_result",
          "data": {
            "text/plain": [
              "  Gender Married Dependents     Education Self_Employed  \\\n",
              "0   Male     Yes          0      Graduate            No   \n",
              "1   Male     Yes          1      Graduate            No   \n",
              "2   Male     Yes          2      Graduate            No   \n",
              "3   Male     Yes          2      Graduate            No   \n",
              "4   Male      No          0  Not Graduate            No   \n",
              "\n",
              "   ApplicantIncomeMonthly  CoapplicantIncomeMonthly  LoanAmountThousands  \\\n",
              "0                    5720                         0                110.0   \n",
              "1                    3076                      1500                126.0   \n",
              "2                    5000                      1800                208.0   \n",
              "3                    2340                      2546                100.0   \n",
              "4                    3276                         0                 78.0   \n",
              "\n",
              "   Loan_Amount_Term_Months  Credit_History Property_Area  \n",
              "0                    360.0             1.0         Urban  \n",
              "1                    360.0             1.0         Urban  \n",
              "2                    360.0             1.0         Urban  \n",
              "3                    360.0             NaN         Urban  \n",
              "4                    360.0             1.0         Urban  "
            ],
            "text/html": [
              "\n",
              "  <div id=\"df-9fab010c-5155-4882-898f-d099c9ea8982\">\n",
              "    <div class=\"colab-df-container\">\n",
              "      <div>\n",
              "<style scoped>\n",
              "    .dataframe tbody tr th:only-of-type {\n",
              "        vertical-align: middle;\n",
              "    }\n",
              "\n",
              "    .dataframe tbody tr th {\n",
              "        vertical-align: top;\n",
              "    }\n",
              "\n",
              "    .dataframe thead th {\n",
              "        text-align: right;\n",
              "    }\n",
              "</style>\n",
              "<table border=\"1\" class=\"dataframe\">\n",
              "  <thead>\n",
              "    <tr style=\"text-align: right;\">\n",
              "      <th></th>\n",
              "      <th>Gender</th>\n",
              "      <th>Married</th>\n",
              "      <th>Dependents</th>\n",
              "      <th>Education</th>\n",
              "      <th>Self_Employed</th>\n",
              "      <th>ApplicantIncomeMonthly</th>\n",
              "      <th>CoapplicantIncomeMonthly</th>\n",
              "      <th>LoanAmountThousands</th>\n",
              "      <th>Loan_Amount_Term_Months</th>\n",
              "      <th>Credit_History</th>\n",
              "      <th>Property_Area</th>\n",
              "    </tr>\n",
              "  </thead>\n",
              "  <tbody>\n",
              "    <tr>\n",
              "      <th>0</th>\n",
              "      <td>Male</td>\n",
              "      <td>Yes</td>\n",
              "      <td>0</td>\n",
              "      <td>Graduate</td>\n",
              "      <td>No</td>\n",
              "      <td>5720</td>\n",
              "      <td>0</td>\n",
              "      <td>110.0</td>\n",
              "      <td>360.0</td>\n",
              "      <td>1.0</td>\n",
              "      <td>Urban</td>\n",
              "    </tr>\n",
              "    <tr>\n",
              "      <th>1</th>\n",
              "      <td>Male</td>\n",
              "      <td>Yes</td>\n",
              "      <td>1</td>\n",
              "      <td>Graduate</td>\n",
              "      <td>No</td>\n",
              "      <td>3076</td>\n",
              "      <td>1500</td>\n",
              "      <td>126.0</td>\n",
              "      <td>360.0</td>\n",
              "      <td>1.0</td>\n",
              "      <td>Urban</td>\n",
              "    </tr>\n",
              "    <tr>\n",
              "      <th>2</th>\n",
              "      <td>Male</td>\n",
              "      <td>Yes</td>\n",
              "      <td>2</td>\n",
              "      <td>Graduate</td>\n",
              "      <td>No</td>\n",
              "      <td>5000</td>\n",
              "      <td>1800</td>\n",
              "      <td>208.0</td>\n",
              "      <td>360.0</td>\n",
              "      <td>1.0</td>\n",
              "      <td>Urban</td>\n",
              "    </tr>\n",
              "    <tr>\n",
              "      <th>3</th>\n",
              "      <td>Male</td>\n",
              "      <td>Yes</td>\n",
              "      <td>2</td>\n",
              "      <td>Graduate</td>\n",
              "      <td>No</td>\n",
              "      <td>2340</td>\n",
              "      <td>2546</td>\n",
              "      <td>100.0</td>\n",
              "      <td>360.0</td>\n",
              "      <td>NaN</td>\n",
              "      <td>Urban</td>\n",
              "    </tr>\n",
              "    <tr>\n",
              "      <th>4</th>\n",
              "      <td>Male</td>\n",
              "      <td>No</td>\n",
              "      <td>0</td>\n",
              "      <td>Not Graduate</td>\n",
              "      <td>No</td>\n",
              "      <td>3276</td>\n",
              "      <td>0</td>\n",
              "      <td>78.0</td>\n",
              "      <td>360.0</td>\n",
              "      <td>1.0</td>\n",
              "      <td>Urban</td>\n",
              "    </tr>\n",
              "  </tbody>\n",
              "</table>\n",
              "</div>\n",
              "      <button class=\"colab-df-convert\" onclick=\"convertToInteractive('df-9fab010c-5155-4882-898f-d099c9ea8982')\"\n",
              "              title=\"Convert this dataframe to an interactive table.\"\n",
              "              style=\"display:none;\">\n",
              "        \n",
              "  <svg xmlns=\"http://www.w3.org/2000/svg\" height=\"24px\"viewBox=\"0 0 24 24\"\n",
              "       width=\"24px\">\n",
              "    <path d=\"M0 0h24v24H0V0z\" fill=\"none\"/>\n",
              "    <path d=\"M18.56 5.44l.94 2.06.94-2.06 2.06-.94-2.06-.94-.94-2.06-.94 2.06-2.06.94zm-11 1L8.5 8.5l.94-2.06 2.06-.94-2.06-.94L8.5 2.5l-.94 2.06-2.06.94zm10 10l.94 2.06.94-2.06 2.06-.94-2.06-.94-.94-2.06-.94 2.06-2.06.94z\"/><path d=\"M17.41 7.96l-1.37-1.37c-.4-.4-.92-.59-1.43-.59-.52 0-1.04.2-1.43.59L10.3 9.45l-7.72 7.72c-.78.78-.78 2.05 0 2.83L4 21.41c.39.39.9.59 1.41.59.51 0 1.02-.2 1.41-.59l7.78-7.78 2.81-2.81c.8-.78.8-2.07 0-2.86zM5.41 20L4 18.59l7.72-7.72 1.47 1.35L5.41 20z\"/>\n",
              "  </svg>\n",
              "      </button>\n",
              "      \n",
              "  <style>\n",
              "    .colab-df-container {\n",
              "      display:flex;\n",
              "      flex-wrap:wrap;\n",
              "      gap: 12px;\n",
              "    }\n",
              "\n",
              "    .colab-df-convert {\n",
              "      background-color: #E8F0FE;\n",
              "      border: none;\n",
              "      border-radius: 50%;\n",
              "      cursor: pointer;\n",
              "      display: none;\n",
              "      fill: #1967D2;\n",
              "      height: 32px;\n",
              "      padding: 0 0 0 0;\n",
              "      width: 32px;\n",
              "    }\n",
              "\n",
              "    .colab-df-convert:hover {\n",
              "      background-color: #E2EBFA;\n",
              "      box-shadow: 0px 1px 2px rgba(60, 64, 67, 0.3), 0px 1px 3px 1px rgba(60, 64, 67, 0.15);\n",
              "      fill: #174EA6;\n",
              "    }\n",
              "\n",
              "    [theme=dark] .colab-df-convert {\n",
              "      background-color: #3B4455;\n",
              "      fill: #D2E3FC;\n",
              "    }\n",
              "\n",
              "    [theme=dark] .colab-df-convert:hover {\n",
              "      background-color: #434B5C;\n",
              "      box-shadow: 0px 1px 3px 1px rgba(0, 0, 0, 0.15);\n",
              "      filter: drop-shadow(0px 1px 2px rgba(0, 0, 0, 0.3));\n",
              "      fill: #FFFFFF;\n",
              "    }\n",
              "  </style>\n",
              "\n",
              "      <script>\n",
              "        const buttonEl =\n",
              "          document.querySelector('#df-9fab010c-5155-4882-898f-d099c9ea8982 button.colab-df-convert');\n",
              "        buttonEl.style.display =\n",
              "          google.colab.kernel.accessAllowed ? 'block' : 'none';\n",
              "\n",
              "        async function convertToInteractive(key) {\n",
              "          const element = document.querySelector('#df-9fab010c-5155-4882-898f-d099c9ea8982');\n",
              "          const dataTable =\n",
              "            await google.colab.kernel.invokeFunction('convertToInteractive',\n",
              "                                                     [key], {});\n",
              "          if (!dataTable) return;\n",
              "\n",
              "          const docLinkHtml = 'Like what you see? Visit the ' +\n",
              "            '<a target=\"_blank\" href=https://colab.research.google.com/notebooks/data_table.ipynb>data table notebook</a>'\n",
              "            + ' to learn more about interactive tables.';\n",
              "          element.innerHTML = '';\n",
              "          dataTable['output_type'] = 'display_data';\n",
              "          await google.colab.output.renderOutput(dataTable, element);\n",
              "          const docLink = document.createElement('div');\n",
              "          docLink.innerHTML = docLinkHtml;\n",
              "          element.appendChild(docLink);\n",
              "        }\n",
              "      </script>\n",
              "    </div>\n",
              "  </div>\n",
              "  "
            ]
          },
          "metadata": {},
          "execution_count": 527
        }
      ]
    },
    {
      "cell_type": "markdown",
      "source": [
        "\n",
        "ApplicantIncomeMonthly,CoapplicantIncomeMonthly,LoanAmountThousands,Loan_Amount_Term_Months keempat fitur ini tidak memiliki nama yang sama dalam data training. Jadi, ganti nama fitur dengan nama yang sama di data training\n"
      ],
      "metadata": {
        "id": "lOwU_M2_gvpQ"
      }
    },
    {
      "cell_type": "code",
      "source": [
        "df_test.rename(columns={'ApplicantIncomeMonthly':'ApplicantIncome','CoapplicantIncomeMonthly':'CoapplicantIncome','LoanAmountThousands':'LoanAmount','Loan_Amount_Term_Months':'Loan_Amount_Term'},inplace=True)"
      ],
      "metadata": {
        "execution": {
          "iopub.status.busy": "2021-06-09T21:36:19.143285Z",
          "iopub.execute_input": "2021-06-09T21:36:19.143539Z",
          "iopub.status.idle": "2021-06-09T21:36:19.160396Z",
          "shell.execute_reply.started": "2021-06-09T21:36:19.143515Z",
          "shell.execute_reply": "2021-06-09T21:36:19.159677Z"
        },
        "trusted": true,
        "id": "viETLxQ0gvpQ"
      },
      "execution_count": 528,
      "outputs": []
    },
    {
      "cell_type": "code",
      "source": [
        "df_test.isnull().sum()"
      ],
      "metadata": {
        "execution": {
          "iopub.status.busy": "2021-06-09T21:36:19.161264Z",
          "iopub.execute_input": "2021-06-09T21:36:19.161468Z",
          "iopub.status.idle": "2021-06-09T21:36:19.174484Z",
          "shell.execute_reply.started": "2021-06-09T21:36:19.161448Z",
          "shell.execute_reply": "2021-06-09T21:36:19.173788Z"
        },
        "trusted": true,
        "colab": {
          "base_uri": "https://localhost:8080/"
        },
        "id": "3dpzs2QJgvpQ",
        "outputId": "e7499169-486d-46f6-957c-c8a9df36e6d9"
      },
      "execution_count": 529,
      "outputs": [
        {
          "output_type": "execute_result",
          "data": {
            "text/plain": [
              "Gender               11\n",
              "Married               0\n",
              "Dependents           10\n",
              "Education             0\n",
              "Self_Employed        23\n",
              "ApplicantIncome       0\n",
              "CoapplicantIncome     0\n",
              "LoanAmount            5\n",
              "Loan_Amount_Term      6\n",
              "Credit_History       29\n",
              "Property_Area         0\n",
              "dtype: int64"
            ]
          },
          "metadata": {},
          "execution_count": 529
        }
      ]
    },
    {
      "cell_type": "code",
      "source": [
        "df_test['Gender'].replace(np.nan,df_test['Gender'].mode()[0],inplace=True)\n",
        "df_test['Dependents'].replace(np.nan,df_test['Dependents'].mode()[0],inplace=True)\n",
        "df_test['Self_Employed'].replace(np.nan,df_test['Self_Employed'].mode()[0],inplace=True)\n",
        "df_test['LoanAmount'].replace(np.nan,df_test['LoanAmount'].median(),inplace=True)\n",
        "df_test['Loan_Amount_Term'].replace(np.nan,df_test['Loan_Amount_Term'].mode()[0],inplace=True)\n",
        "df_test['Credit_History'].replace(np.nan,df_test['Credit_History'].mode()[0],inplace=True)"
      ],
      "metadata": {
        "execution": {
          "iopub.status.busy": "2021-06-09T21:36:19.175321Z",
          "iopub.execute_input": "2021-06-09T21:36:19.175632Z",
          "iopub.status.idle": "2021-06-09T21:36:19.187001Z",
          "shell.execute_reply.started": "2021-06-09T21:36:19.175608Z",
          "shell.execute_reply": "2021-06-09T21:36:19.186413Z"
        },
        "trusted": true,
        "id": "kY_ItrEagvpQ"
      },
      "execution_count": 530,
      "outputs": []
    },
    {
      "cell_type": "code",
      "source": [
        "df_test.isnull().sum()"
      ],
      "metadata": {
        "execution": {
          "iopub.status.busy": "2021-06-09T21:36:19.187994Z",
          "iopub.execute_input": "2021-06-09T21:36:19.188270Z",
          "iopub.status.idle": "2021-06-09T21:36:19.198849Z",
          "shell.execute_reply.started": "2021-06-09T21:36:19.188244Z",
          "shell.execute_reply": "2021-06-09T21:36:19.198143Z"
        },
        "trusted": true,
        "colab": {
          "base_uri": "https://localhost:8080/"
        },
        "id": "jwZ2lLKRgvpQ",
        "outputId": "912b380e-06a8-4323-8f66-a602cbbef330"
      },
      "execution_count": 531,
      "outputs": [
        {
          "output_type": "execute_result",
          "data": {
            "text/plain": [
              "Gender               0\n",
              "Married              0\n",
              "Dependents           0\n",
              "Education            0\n",
              "Self_Employed        0\n",
              "ApplicantIncome      0\n",
              "CoapplicantIncome    0\n",
              "LoanAmount           0\n",
              "Loan_Amount_Term     0\n",
              "Credit_History       0\n",
              "Property_Area        0\n",
              "dtype: int64"
            ]
          },
          "metadata": {},
          "execution_count": 531
        }
      ]
    },
    {
      "cell_type": "code",
      "source": [
        "for i in categorical_features:\n",
        "    df_test[i]=LabelEncoder().fit_transform(df_test[i])\n",
        "df_test.head()"
      ],
      "metadata": {
        "execution": {
          "iopub.status.busy": "2021-06-09T21:36:19.199968Z",
          "iopub.execute_input": "2021-06-09T21:36:19.200232Z",
          "iopub.status.idle": "2021-06-09T21:36:19.225485Z",
          "shell.execute_reply.started": "2021-06-09T21:36:19.200207Z",
          "shell.execute_reply": "2021-06-09T21:36:19.224813Z"
        },
        "trusted": true,
        "colab": {
          "base_uri": "https://localhost:8080/",
          "height": 206
        },
        "id": "NCEzG2s_gvpR",
        "outputId": "a4254484-ac5a-49fd-c379-be623842958e"
      },
      "execution_count": 532,
      "outputs": [
        {
          "output_type": "execute_result",
          "data": {
            "text/plain": [
              "   Gender  Married  Dependents  Education  Self_Employed  ApplicantIncome  \\\n",
              "0       1        1           0          0              0             5720   \n",
              "1       1        1           1          0              0             3076   \n",
              "2       1        1           2          0              0             5000   \n",
              "3       1        1           2          0              0             2340   \n",
              "4       1        0           0          1              0             3276   \n",
              "\n",
              "   CoapplicantIncome  LoanAmount  Loan_Amount_Term  Credit_History  \\\n",
              "0                  0       110.0                10               1   \n",
              "1               1500       126.0                10               1   \n",
              "2               1800       208.0                10               1   \n",
              "3               2546       100.0                10               1   \n",
              "4                  0        78.0                10               1   \n",
              "\n",
              "   Property_Area  \n",
              "0              2  \n",
              "1              2  \n",
              "2              2  \n",
              "3              2  \n",
              "4              2  "
            ],
            "text/html": [
              "\n",
              "  <div id=\"df-a10617b9-924c-4b85-a537-5d359b7fcaa9\">\n",
              "    <div class=\"colab-df-container\">\n",
              "      <div>\n",
              "<style scoped>\n",
              "    .dataframe tbody tr th:only-of-type {\n",
              "        vertical-align: middle;\n",
              "    }\n",
              "\n",
              "    .dataframe tbody tr th {\n",
              "        vertical-align: top;\n",
              "    }\n",
              "\n",
              "    .dataframe thead th {\n",
              "        text-align: right;\n",
              "    }\n",
              "</style>\n",
              "<table border=\"1\" class=\"dataframe\">\n",
              "  <thead>\n",
              "    <tr style=\"text-align: right;\">\n",
              "      <th></th>\n",
              "      <th>Gender</th>\n",
              "      <th>Married</th>\n",
              "      <th>Dependents</th>\n",
              "      <th>Education</th>\n",
              "      <th>Self_Employed</th>\n",
              "      <th>ApplicantIncome</th>\n",
              "      <th>CoapplicantIncome</th>\n",
              "      <th>LoanAmount</th>\n",
              "      <th>Loan_Amount_Term</th>\n",
              "      <th>Credit_History</th>\n",
              "      <th>Property_Area</th>\n",
              "    </tr>\n",
              "  </thead>\n",
              "  <tbody>\n",
              "    <tr>\n",
              "      <th>0</th>\n",
              "      <td>1</td>\n",
              "      <td>1</td>\n",
              "      <td>0</td>\n",
              "      <td>0</td>\n",
              "      <td>0</td>\n",
              "      <td>5720</td>\n",
              "      <td>0</td>\n",
              "      <td>110.0</td>\n",
              "      <td>10</td>\n",
              "      <td>1</td>\n",
              "      <td>2</td>\n",
              "    </tr>\n",
              "    <tr>\n",
              "      <th>1</th>\n",
              "      <td>1</td>\n",
              "      <td>1</td>\n",
              "      <td>1</td>\n",
              "      <td>0</td>\n",
              "      <td>0</td>\n",
              "      <td>3076</td>\n",
              "      <td>1500</td>\n",
              "      <td>126.0</td>\n",
              "      <td>10</td>\n",
              "      <td>1</td>\n",
              "      <td>2</td>\n",
              "    </tr>\n",
              "    <tr>\n",
              "      <th>2</th>\n",
              "      <td>1</td>\n",
              "      <td>1</td>\n",
              "      <td>2</td>\n",
              "      <td>0</td>\n",
              "      <td>0</td>\n",
              "      <td>5000</td>\n",
              "      <td>1800</td>\n",
              "      <td>208.0</td>\n",
              "      <td>10</td>\n",
              "      <td>1</td>\n",
              "      <td>2</td>\n",
              "    </tr>\n",
              "    <tr>\n",
              "      <th>3</th>\n",
              "      <td>1</td>\n",
              "      <td>1</td>\n",
              "      <td>2</td>\n",
              "      <td>0</td>\n",
              "      <td>0</td>\n",
              "      <td>2340</td>\n",
              "      <td>2546</td>\n",
              "      <td>100.0</td>\n",
              "      <td>10</td>\n",
              "      <td>1</td>\n",
              "      <td>2</td>\n",
              "    </tr>\n",
              "    <tr>\n",
              "      <th>4</th>\n",
              "      <td>1</td>\n",
              "      <td>0</td>\n",
              "      <td>0</td>\n",
              "      <td>1</td>\n",
              "      <td>0</td>\n",
              "      <td>3276</td>\n",
              "      <td>0</td>\n",
              "      <td>78.0</td>\n",
              "      <td>10</td>\n",
              "      <td>1</td>\n",
              "      <td>2</td>\n",
              "    </tr>\n",
              "  </tbody>\n",
              "</table>\n",
              "</div>\n",
              "      <button class=\"colab-df-convert\" onclick=\"convertToInteractive('df-a10617b9-924c-4b85-a537-5d359b7fcaa9')\"\n",
              "              title=\"Convert this dataframe to an interactive table.\"\n",
              "              style=\"display:none;\">\n",
              "        \n",
              "  <svg xmlns=\"http://www.w3.org/2000/svg\" height=\"24px\"viewBox=\"0 0 24 24\"\n",
              "       width=\"24px\">\n",
              "    <path d=\"M0 0h24v24H0V0z\" fill=\"none\"/>\n",
              "    <path d=\"M18.56 5.44l.94 2.06.94-2.06 2.06-.94-2.06-.94-.94-2.06-.94 2.06-2.06.94zm-11 1L8.5 8.5l.94-2.06 2.06-.94-2.06-.94L8.5 2.5l-.94 2.06-2.06.94zm10 10l.94 2.06.94-2.06 2.06-.94-2.06-.94-.94-2.06-.94 2.06-2.06.94z\"/><path d=\"M17.41 7.96l-1.37-1.37c-.4-.4-.92-.59-1.43-.59-.52 0-1.04.2-1.43.59L10.3 9.45l-7.72 7.72c-.78.78-.78 2.05 0 2.83L4 21.41c.39.39.9.59 1.41.59.51 0 1.02-.2 1.41-.59l7.78-7.78 2.81-2.81c.8-.78.8-2.07 0-2.86zM5.41 20L4 18.59l7.72-7.72 1.47 1.35L5.41 20z\"/>\n",
              "  </svg>\n",
              "      </button>\n",
              "      \n",
              "  <style>\n",
              "    .colab-df-container {\n",
              "      display:flex;\n",
              "      flex-wrap:wrap;\n",
              "      gap: 12px;\n",
              "    }\n",
              "\n",
              "    .colab-df-convert {\n",
              "      background-color: #E8F0FE;\n",
              "      border: none;\n",
              "      border-radius: 50%;\n",
              "      cursor: pointer;\n",
              "      display: none;\n",
              "      fill: #1967D2;\n",
              "      height: 32px;\n",
              "      padding: 0 0 0 0;\n",
              "      width: 32px;\n",
              "    }\n",
              "\n",
              "    .colab-df-convert:hover {\n",
              "      background-color: #E2EBFA;\n",
              "      box-shadow: 0px 1px 2px rgba(60, 64, 67, 0.3), 0px 1px 3px 1px rgba(60, 64, 67, 0.15);\n",
              "      fill: #174EA6;\n",
              "    }\n",
              "\n",
              "    [theme=dark] .colab-df-convert {\n",
              "      background-color: #3B4455;\n",
              "      fill: #D2E3FC;\n",
              "    }\n",
              "\n",
              "    [theme=dark] .colab-df-convert:hover {\n",
              "      background-color: #434B5C;\n",
              "      box-shadow: 0px 1px 3px 1px rgba(0, 0, 0, 0.15);\n",
              "      filter: drop-shadow(0px 1px 2px rgba(0, 0, 0, 0.3));\n",
              "      fill: #FFFFFF;\n",
              "    }\n",
              "  </style>\n",
              "\n",
              "      <script>\n",
              "        const buttonEl =\n",
              "          document.querySelector('#df-a10617b9-924c-4b85-a537-5d359b7fcaa9 button.colab-df-convert');\n",
              "        buttonEl.style.display =\n",
              "          google.colab.kernel.accessAllowed ? 'block' : 'none';\n",
              "\n",
              "        async function convertToInteractive(key) {\n",
              "          const element = document.querySelector('#df-a10617b9-924c-4b85-a537-5d359b7fcaa9');\n",
              "          const dataTable =\n",
              "            await google.colab.kernel.invokeFunction('convertToInteractive',\n",
              "                                                     [key], {});\n",
              "          if (!dataTable) return;\n",
              "\n",
              "          const docLinkHtml = 'Like what you see? Visit the ' +\n",
              "            '<a target=\"_blank\" href=https://colab.research.google.com/notebooks/data_table.ipynb>data table notebook</a>'\n",
              "            + ' to learn more about interactive tables.';\n",
              "          element.innerHTML = '';\n",
              "          dataTable['output_type'] = 'display_data';\n",
              "          await google.colab.output.renderOutput(dataTable, element);\n",
              "          const docLink = document.createElement('div');\n",
              "          docLink.innerHTML = docLinkHtml;\n",
              "          element.appendChild(docLink);\n",
              "        }\n",
              "      </script>\n",
              "    </div>\n",
              "  </div>\n",
              "  "
            ]
          },
          "metadata": {},
          "execution_count": 532
        }
      ]
    },
    {
      "cell_type": "code",
      "source": [
        "df_test['LoanAmount_log']=np.log(df_test['LoanAmount'])\n",
        "df_test.drop('LoanAmount',axis=1,inplace=True)\n",
        "df_test.head()"
      ],
      "metadata": {
        "execution": {
          "iopub.status.busy": "2021-06-09T21:36:19.226192Z",
          "iopub.execute_input": "2021-06-09T21:36:19.226399Z",
          "iopub.status.idle": "2021-06-09T21:36:19.240866Z",
          "shell.execute_reply.started": "2021-06-09T21:36:19.226378Z",
          "shell.execute_reply": "2021-06-09T21:36:19.240083Z"
        },
        "trusted": true,
        "colab": {
          "base_uri": "https://localhost:8080/",
          "height": 250
        },
        "id": "aBtx6h27gvpR",
        "outputId": "b3d543b2-6086-4917-99b6-2d61587e84ef"
      },
      "execution_count": 533,
      "outputs": [
        {
          "output_type": "execute_result",
          "data": {
            "text/plain": [
              "   Gender  Married  Dependents  Education  Self_Employed  ApplicantIncome  \\\n",
              "0       1        1           0          0              0             5720   \n",
              "1       1        1           1          0              0             3076   \n",
              "2       1        1           2          0              0             5000   \n",
              "3       1        1           2          0              0             2340   \n",
              "4       1        0           0          1              0             3276   \n",
              "\n",
              "   CoapplicantIncome  Loan_Amount_Term  Credit_History  Property_Area  \\\n",
              "0                  0                10               1              2   \n",
              "1               1500                10               1              2   \n",
              "2               1800                10               1              2   \n",
              "3               2546                10               1              2   \n",
              "4                  0                10               1              2   \n",
              "\n",
              "   LoanAmount_log  \n",
              "0        4.700480  \n",
              "1        4.836282  \n",
              "2        5.337538  \n",
              "3        4.605170  \n",
              "4        4.356709  "
            ],
            "text/html": [
              "\n",
              "  <div id=\"df-9eb57e0f-74d9-4047-b453-23698d2f70b7\">\n",
              "    <div class=\"colab-df-container\">\n",
              "      <div>\n",
              "<style scoped>\n",
              "    .dataframe tbody tr th:only-of-type {\n",
              "        vertical-align: middle;\n",
              "    }\n",
              "\n",
              "    .dataframe tbody tr th {\n",
              "        vertical-align: top;\n",
              "    }\n",
              "\n",
              "    .dataframe thead th {\n",
              "        text-align: right;\n",
              "    }\n",
              "</style>\n",
              "<table border=\"1\" class=\"dataframe\">\n",
              "  <thead>\n",
              "    <tr style=\"text-align: right;\">\n",
              "      <th></th>\n",
              "      <th>Gender</th>\n",
              "      <th>Married</th>\n",
              "      <th>Dependents</th>\n",
              "      <th>Education</th>\n",
              "      <th>Self_Employed</th>\n",
              "      <th>ApplicantIncome</th>\n",
              "      <th>CoapplicantIncome</th>\n",
              "      <th>Loan_Amount_Term</th>\n",
              "      <th>Credit_History</th>\n",
              "      <th>Property_Area</th>\n",
              "      <th>LoanAmount_log</th>\n",
              "    </tr>\n",
              "  </thead>\n",
              "  <tbody>\n",
              "    <tr>\n",
              "      <th>0</th>\n",
              "      <td>1</td>\n",
              "      <td>1</td>\n",
              "      <td>0</td>\n",
              "      <td>0</td>\n",
              "      <td>0</td>\n",
              "      <td>5720</td>\n",
              "      <td>0</td>\n",
              "      <td>10</td>\n",
              "      <td>1</td>\n",
              "      <td>2</td>\n",
              "      <td>4.700480</td>\n",
              "    </tr>\n",
              "    <tr>\n",
              "      <th>1</th>\n",
              "      <td>1</td>\n",
              "      <td>1</td>\n",
              "      <td>1</td>\n",
              "      <td>0</td>\n",
              "      <td>0</td>\n",
              "      <td>3076</td>\n",
              "      <td>1500</td>\n",
              "      <td>10</td>\n",
              "      <td>1</td>\n",
              "      <td>2</td>\n",
              "      <td>4.836282</td>\n",
              "    </tr>\n",
              "    <tr>\n",
              "      <th>2</th>\n",
              "      <td>1</td>\n",
              "      <td>1</td>\n",
              "      <td>2</td>\n",
              "      <td>0</td>\n",
              "      <td>0</td>\n",
              "      <td>5000</td>\n",
              "      <td>1800</td>\n",
              "      <td>10</td>\n",
              "      <td>1</td>\n",
              "      <td>2</td>\n",
              "      <td>5.337538</td>\n",
              "    </tr>\n",
              "    <tr>\n",
              "      <th>3</th>\n",
              "      <td>1</td>\n",
              "      <td>1</td>\n",
              "      <td>2</td>\n",
              "      <td>0</td>\n",
              "      <td>0</td>\n",
              "      <td>2340</td>\n",
              "      <td>2546</td>\n",
              "      <td>10</td>\n",
              "      <td>1</td>\n",
              "      <td>2</td>\n",
              "      <td>4.605170</td>\n",
              "    </tr>\n",
              "    <tr>\n",
              "      <th>4</th>\n",
              "      <td>1</td>\n",
              "      <td>0</td>\n",
              "      <td>0</td>\n",
              "      <td>1</td>\n",
              "      <td>0</td>\n",
              "      <td>3276</td>\n",
              "      <td>0</td>\n",
              "      <td>10</td>\n",
              "      <td>1</td>\n",
              "      <td>2</td>\n",
              "      <td>4.356709</td>\n",
              "    </tr>\n",
              "  </tbody>\n",
              "</table>\n",
              "</div>\n",
              "      <button class=\"colab-df-convert\" onclick=\"convertToInteractive('df-9eb57e0f-74d9-4047-b453-23698d2f70b7')\"\n",
              "              title=\"Convert this dataframe to an interactive table.\"\n",
              "              style=\"display:none;\">\n",
              "        \n",
              "  <svg xmlns=\"http://www.w3.org/2000/svg\" height=\"24px\"viewBox=\"0 0 24 24\"\n",
              "       width=\"24px\">\n",
              "    <path d=\"M0 0h24v24H0V0z\" fill=\"none\"/>\n",
              "    <path d=\"M18.56 5.44l.94 2.06.94-2.06 2.06-.94-2.06-.94-.94-2.06-.94 2.06-2.06.94zm-11 1L8.5 8.5l.94-2.06 2.06-.94-2.06-.94L8.5 2.5l-.94 2.06-2.06.94zm10 10l.94 2.06.94-2.06 2.06-.94-2.06-.94-.94-2.06-.94 2.06-2.06.94z\"/><path d=\"M17.41 7.96l-1.37-1.37c-.4-.4-.92-.59-1.43-.59-.52 0-1.04.2-1.43.59L10.3 9.45l-7.72 7.72c-.78.78-.78 2.05 0 2.83L4 21.41c.39.39.9.59 1.41.59.51 0 1.02-.2 1.41-.59l7.78-7.78 2.81-2.81c.8-.78.8-2.07 0-2.86zM5.41 20L4 18.59l7.72-7.72 1.47 1.35L5.41 20z\"/>\n",
              "  </svg>\n",
              "      </button>\n",
              "      \n",
              "  <style>\n",
              "    .colab-df-container {\n",
              "      display:flex;\n",
              "      flex-wrap:wrap;\n",
              "      gap: 12px;\n",
              "    }\n",
              "\n",
              "    .colab-df-convert {\n",
              "      background-color: #E8F0FE;\n",
              "      border: none;\n",
              "      border-radius: 50%;\n",
              "      cursor: pointer;\n",
              "      display: none;\n",
              "      fill: #1967D2;\n",
              "      height: 32px;\n",
              "      padding: 0 0 0 0;\n",
              "      width: 32px;\n",
              "    }\n",
              "\n",
              "    .colab-df-convert:hover {\n",
              "      background-color: #E2EBFA;\n",
              "      box-shadow: 0px 1px 2px rgba(60, 64, 67, 0.3), 0px 1px 3px 1px rgba(60, 64, 67, 0.15);\n",
              "      fill: #174EA6;\n",
              "    }\n",
              "\n",
              "    [theme=dark] .colab-df-convert {\n",
              "      background-color: #3B4455;\n",
              "      fill: #D2E3FC;\n",
              "    }\n",
              "\n",
              "    [theme=dark] .colab-df-convert:hover {\n",
              "      background-color: #434B5C;\n",
              "      box-shadow: 0px 1px 3px 1px rgba(0, 0, 0, 0.15);\n",
              "      filter: drop-shadow(0px 1px 2px rgba(0, 0, 0, 0.3));\n",
              "      fill: #FFFFFF;\n",
              "    }\n",
              "  </style>\n",
              "\n",
              "      <script>\n",
              "        const buttonEl =\n",
              "          document.querySelector('#df-9eb57e0f-74d9-4047-b453-23698d2f70b7 button.colab-df-convert');\n",
              "        buttonEl.style.display =\n",
              "          google.colab.kernel.accessAllowed ? 'block' : 'none';\n",
              "\n",
              "        async function convertToInteractive(key) {\n",
              "          const element = document.querySelector('#df-9eb57e0f-74d9-4047-b453-23698d2f70b7');\n",
              "          const dataTable =\n",
              "            await google.colab.kernel.invokeFunction('convertToInteractive',\n",
              "                                                     [key], {});\n",
              "          if (!dataTable) return;\n",
              "\n",
              "          const docLinkHtml = 'Like what you see? Visit the ' +\n",
              "            '<a target=\"_blank\" href=https://colab.research.google.com/notebooks/data_table.ipynb>data table notebook</a>'\n",
              "            + ' to learn more about interactive tables.';\n",
              "          element.innerHTML = '';\n",
              "          dataTable['output_type'] = 'display_data';\n",
              "          await google.colab.output.renderOutput(dataTable, element);\n",
              "          const docLink = document.createElement('div');\n",
              "          docLink.innerHTML = docLinkHtml;\n",
              "          element.appendChild(docLink);\n",
              "        }\n",
              "      </script>\n",
              "    </div>\n",
              "  </div>\n",
              "  "
            ]
          },
          "metadata": {},
          "execution_count": 533
        }
      ]
    },
    {
      "cell_type": "code",
      "source": [
        "df_test_norm=StandardScaler().fit_transform(df_test)\n",
        "df_test_norm[0:5]"
      ],
      "metadata": {
        "execution": {
          "iopub.status.busy": "2021-06-09T21:36:19.241887Z",
          "iopub.execute_input": "2021-06-09T21:36:19.242189Z",
          "iopub.status.idle": "2021-06-09T21:36:19.256584Z",
          "shell.execute_reply.started": "2021-06-09T21:36:19.242158Z",
          "shell.execute_reply": "2021-06-09T21:36:19.255884Z"
        },
        "trusted": true,
        "colab": {
          "base_uri": "https://localhost:8080/"
        },
        "id": "zD_fm2ZrgvpR",
        "outputId": "97d338f0-7114-4e3b-af7b-c86c323c9481"
      },
      "execution_count": 534,
      "outputs": [
        {
          "output_type": "execute_result",
          "data": {
            "text/plain": [
              "array([[ 0.48547939,  0.75835829, -0.75822199, -0.5448117 , -0.33484506,\n",
              "         0.1864605 , -0.67333511,  0.30677633,  0.4376739 ,  1.11876379,\n",
              "        -0.30445573],\n",
              "       [ 0.48547939,  0.75835829,  0.18187082, -0.5448117 , -0.33484506,\n",
              "        -0.35269225, -0.02984821,  0.30677633,  0.4376739 ,  1.11876379,\n",
              "         0.02228726],\n",
              "       [ 0.48547939,  0.75835829,  1.12196363, -0.5448117 , -0.33484506,\n",
              "         0.0396413 ,  0.09884917,  0.30677633,  0.4376739 ,  1.11876379,\n",
              "         1.22832616],\n",
              "       [ 0.48547939,  0.75835829,  1.12196363, -0.5448117 , -0.33484506,\n",
              "        -0.50277411,  0.41887666,  0.30677633,  0.4376739 ,  1.11876379,\n",
              "        -0.53377517],\n",
              "       [ 0.48547939, -1.31863792, -0.75822199,  1.83549656, -0.33484506,\n",
              "        -0.31190914, -0.67333511,  0.30677633,  0.4376739 ,  1.11876379,\n",
              "        -1.13158141]])"
            ]
          },
          "metadata": {},
          "execution_count": 534
        }
      ]
    },
    {
      "cell_type": "markdown",
      "source": [
        "# Training and Validation Data Split"
      ],
      "metadata": {
        "id": "1PJuzCm8gvpR"
      }
    },
    {
      "cell_type": "code",
      "source": [
        "\n",
        "x_train,x_val,y_train,y_val=train_test_split(X_norm,y,test_size=0.25,random_state=42)\n",
        "x_train.shape,y_train.shape,x_val.shape,y_val.shape"
      ],
      "metadata": {
        "execution": {
          "iopub.status.busy": "2021-06-09T21:36:19.257591Z",
          "iopub.execute_input": "2021-06-09T21:36:19.257885Z",
          "iopub.status.idle": "2021-06-09T21:36:19.267217Z",
          "shell.execute_reply.started": "2021-06-09T21:36:19.257858Z",
          "shell.execute_reply": "2021-06-09T21:36:19.266704Z"
        },
        "trusted": true,
        "colab": {
          "base_uri": "https://localhost:8080/"
        },
        "id": "jz8L650VgvpR",
        "outputId": "d934763a-62d7-4db2-80b7-e72fe67f896a"
      },
      "execution_count": 535,
      "outputs": [
        {
          "output_type": "execute_result",
          "data": {
            "text/plain": [
              "((460, 11), (460,), (154, 11), (154,))"
            ]
          },
          "metadata": {},
          "execution_count": 535
        }
      ]
    },
    {
      "cell_type": "markdown",
      "source": [
        "The following models will the applied on the training data:\n",
        "1. Logistic Regression\n",
        "2. Random Forest Classifier\n",
        "3. Xgboost Classifier"
      ],
      "metadata": {
        "id": "8ZbhwMl8gvpS"
      }
    },
    {
      "cell_type": "code",
      "source": [
        "accuracy=[]\n",
        "f1=[]\n",
        "model=[]"
      ],
      "metadata": {
        "execution": {
          "iopub.status.busy": "2021-06-09T21:36:19.282274Z",
          "iopub.execute_input": "2021-06-09T21:36:19.282614Z",
          "iopub.status.idle": "2021-06-09T21:36:19.297933Z",
          "shell.execute_reply.started": "2021-06-09T21:36:19.282576Z",
          "shell.execute_reply": "2021-06-09T21:36:19.296744Z"
        },
        "trusted": true,
        "id": "Fcq_1Q9rgvpS"
      },
      "execution_count": 536,
      "outputs": []
    },
    {
      "cell_type": "markdown",
      "source": [
        "# Logistic Regression"
      ],
      "metadata": {
        "id": "RH-7bhelgvpS"
      }
    },
    {
      "cell_type": "code",
      "source": [
        "lr=LogisticRegression()\n",
        "lr.fit(x_train,y_train)\n",
        "y_hat=lr.predict(x_val)"
      ],
      "metadata": {
        "execution": {
          "iopub.status.busy": "2021-06-09T21:36:19.298960Z",
          "iopub.execute_input": "2021-06-09T21:36:19.299209Z",
          "iopub.status.idle": "2021-06-09T21:36:19.317224Z",
          "shell.execute_reply.started": "2021-06-09T21:36:19.299185Z",
          "shell.execute_reply": "2021-06-09T21:36:19.316675Z"
        },
        "trusted": true,
        "id": "TVwsv-sJgvpS"
      },
      "execution_count": 537,
      "outputs": []
    },
    {
      "cell_type": "code",
      "source": [
        "accuracy.append(np.round(accuracy_score(y_val,y_hat),2))\n",
        "f1.append(np.round(f1_score(y_val,y_hat,average='weighted'),2))\n",
        "model.append('Logistic Regression')"
      ],
      "metadata": {
        "execution": {
          "iopub.status.busy": "2021-06-09T21:36:19.317969Z",
          "iopub.execute_input": "2021-06-09T21:36:19.318272Z",
          "iopub.status.idle": "2021-06-09T21:36:19.334804Z",
          "shell.execute_reply.started": "2021-06-09T21:36:19.318243Z",
          "shell.execute_reply": "2021-06-09T21:36:19.333912Z"
        },
        "trusted": true,
        "id": "9_IRcKFHgvpS"
      },
      "execution_count": 538,
      "outputs": []
    },
    {
      "cell_type": "code",
      "source": [
        "sns.heatmap(confusion_matrix(y_val,y_hat),annot=True,fmt='.0f')"
      ],
      "metadata": {
        "execution": {
          "iopub.status.busy": "2021-06-09T21:36:19.335641Z",
          "iopub.execute_input": "2021-06-09T21:36:19.335835Z",
          "iopub.status.idle": "2021-06-09T21:36:19.512840Z",
          "shell.execute_reply.started": "2021-06-09T21:36:19.335815Z",
          "shell.execute_reply": "2021-06-09T21:36:19.512139Z"
        },
        "trusted": true,
        "colab": {
          "base_uri": "https://localhost:8080/",
          "height": 391
        },
        "id": "WyQN4-7zgvpS",
        "outputId": "4bed4d5b-1819-4aab-f116-29ab5348ee4e"
      },
      "execution_count": 539,
      "outputs": [
        {
          "output_type": "execute_result",
          "data": {
            "text/plain": [
              "<matplotlib.axes._subplots.AxesSubplot at 0x7fa198833810>"
            ]
          },
          "metadata": {},
          "execution_count": 539
        },
        {
          "output_type": "display_data",
          "data": {
            "text/plain": [
              "<Figure size 576x432 with 2 Axes>"
            ],
            "image/png": "[encoded data removed]"
          },
          "metadata": {}
        }
      ]
    },
    {
      "cell_type": "markdown",
      "source": [
        "# Random Forest Classifier"
      ],
      "metadata": {
        "id": "j27TUMavgvpV"
      }
    },
    {
      "cell_type": "code",
      "source": [
        "\n",
        "rfc=RandomForestClassifier(n_estimators=100)\n",
        "rfc.fit(x_train,y_train)\n",
        "y_hat=rfc.predict(x_val)"
      ],
      "metadata": {
        "execution": {
          "iopub.status.busy": "2021-06-09T21:36:19.963344Z",
          "iopub.execute_input": "2021-06-09T21:36:19.963739Z",
          "iopub.status.idle": "2021-06-09T21:36:20.125365Z",
          "shell.execute_reply.started": "2021-06-09T21:36:19.963708Z",
          "shell.execute_reply": "2021-06-09T21:36:20.124854Z"
        },
        "trusted": true,
        "id": "HFqROg5IgvpV"
      },
      "execution_count": 540,
      "outputs": []
    },
    {
      "cell_type": "code",
      "source": [
        "accuracy.append(np.round(accuracy_score(y_val,y_hat),2))\n",
        "f1.append(np.round(f1_score(y_val,y_hat,average='weighted'),2))\n",
        "model.append('Random Forest')"
      ],
      "metadata": {
        "execution": {
          "iopub.status.busy": "2021-06-09T21:36:20.129317Z",
          "iopub.execute_input": "2021-06-09T21:36:20.129592Z",
          "iopub.status.idle": "2021-06-09T21:36:20.137663Z",
          "shell.execute_reply.started": "2021-06-09T21:36:20.129569Z",
          "shell.execute_reply": "2021-06-09T21:36:20.136867Z"
        },
        "trusted": true,
        "id": "fmvcYwEZgvpV"
      },
      "execution_count": 541,
      "outputs": []
    },
    {
      "cell_type": "code",
      "source": [
        "sns.heatmap(confusion_matrix(y_val,y_hat),annot=True,fmt='.0f')"
      ],
      "metadata": {
        "execution": {
          "iopub.status.busy": "2021-06-09T21:36:20.138617Z",
          "iopub.execute_input": "2021-06-09T21:36:20.138976Z",
          "iopub.status.idle": "2021-06-09T21:36:20.311973Z",
          "shell.execute_reply.started": "2021-06-09T21:36:20.138954Z",
          "shell.execute_reply": "2021-06-09T21:36:20.311503Z"
        },
        "trusted": true,
        "colab": {
          "base_uri": "https://localhost:8080/",
          "height": 391
        },
        "id": "rvQQ_sk2gvpV",
        "outputId": "b2b8af90-173b-4a95-b629-3c5d51b48532"
      },
      "execution_count": 542,
      "outputs": [
        {
          "output_type": "execute_result",
          "data": {
            "text/plain": [
              "<matplotlib.axes._subplots.AxesSubplot at 0x7fa1990e7d90>"
            ]
          },
          "metadata": {},
          "execution_count": 542
        },
        {
          "output_type": "display_data",
          "data": {
            "text/plain": [
              "<Figure size 576x432 with 2 Axes>"
            ],
            "image/png": "[encoded data removed]"
          },
          "metadata": {}
        }
      ]
    },
    {
      "cell_type": "markdown",
      "source": [
        "# Xgboost"
      ],
      "metadata": {
        "id": "vpvibFPOiozH"
      }
    },
    {
      "cell_type": "code",
      "source": [
        "\n",
        "xgb=XGBClassifier(n_estimators=100,max_depth=3)\n",
        "xgb.fit(x_train,y_train)\n",
        "y_hat=xgb.predict(x_val)"
      ],
      "metadata": {
        "execution": {
          "iopub.status.busy": "2021-06-09T21:36:20.312956Z",
          "iopub.execute_input": "2021-06-09T21:36:20.313360Z",
          "iopub.status.idle": "2021-06-09T21:36:20.382775Z",
          "shell.execute_reply.started": "2021-06-09T21:36:20.313327Z",
          "shell.execute_reply": "2021-06-09T21:36:20.382044Z"
        },
        "trusted": true,
        "id": "Dqa7BmtkgvpW"
      },
      "execution_count": 543,
      "outputs": []
    },
    {
      "cell_type": "code",
      "source": [
        "accuracy.append(np.round(accuracy_score(y_val,y_hat),2))\n",
        "f1.append(np.round(f1_score(y_val,y_hat,average='weighted'),2))\n",
        "model.append('Xgboost')"
      ],
      "metadata": {
        "execution": {
          "iopub.status.busy": "2021-06-09T21:36:20.383758Z",
          "iopub.execute_input": "2021-06-09T21:36:20.384159Z",
          "iopub.status.idle": "2021-06-09T21:36:20.391181Z",
          "shell.execute_reply.started": "2021-06-09T21:36:20.384127Z",
          "shell.execute_reply": "2021-06-09T21:36:20.390547Z"
        },
        "trusted": true,
        "id": "hWzzDcc-gvpW"
      },
      "execution_count": 544,
      "outputs": []
    },
    {
      "cell_type": "code",
      "source": [
        "sns.heatmap(confusion_matrix(y_val,y_hat),annot=True,fmt='.0f')"
      ],
      "metadata": {
        "execution": {
          "iopub.status.busy": "2021-06-09T21:36:20.392176Z",
          "iopub.execute_input": "2021-06-09T21:36:20.392745Z",
          "iopub.status.idle": "2021-06-09T21:36:20.556421Z",
          "shell.execute_reply.started": "2021-06-09T21:36:20.392715Z",
          "shell.execute_reply": "2021-06-09T21:36:20.555922Z"
        },
        "trusted": true,
        "colab": {
          "base_uri": "https://localhost:8080/",
          "height": 391
        },
        "id": "iP0V_IDWgvpW",
        "outputId": "5175b937-68e7-4787-bb4a-170dfbafec95"
      },
      "execution_count": 545,
      "outputs": [
        {
          "output_type": "execute_result",
          "data": {
            "text/plain": [
              "<matplotlib.axes._subplots.AxesSubplot at 0x7fa1986f91d0>"
            ]
          },
          "metadata": {},
          "execution_count": 545
        },
        {
          "output_type": "display_data",
          "data": {
            "text/plain": [
              "<Figure size 576x432 with 2 Axes>"
            ],
            "image/png": "[encoded data removed]"
          },
          "metadata": {}
        }
      ]
    },
    {
      "cell_type": "markdown",
      "source": [
        "#6. Evaluation"
      ],
      "metadata": {
        "id": "bXaQK1-2iubX"
      }
    },
    {
      "cell_type": "code",
      "source": [
        "model"
      ],
      "metadata": {
        "execution": {
          "iopub.status.busy": "2021-06-09T21:36:20.558657Z",
          "iopub.execute_input": "2021-06-09T21:36:20.558965Z",
          "iopub.status.idle": "2021-06-09T21:36:20.562388Z",
          "shell.execute_reply.started": "2021-06-09T21:36:20.558943Z",
          "shell.execute_reply": "2021-06-09T21:36:20.561935Z"
        },
        "trusted": true,
        "colab": {
          "base_uri": "https://localhost:8080/"
        },
        "id": "Ty2IgacsgvpW",
        "outputId": "3ba64a1a-7011-4d44-e0c5-855387d769ea"
      },
      "execution_count": 546,
      "outputs": [
        {
          "output_type": "execute_result",
          "data": {
            "text/plain": [
              "['Logistic Regression', 'Random Forest', 'Xgboost']"
            ]
          },
          "metadata": {},
          "execution_count": 546
        }
      ]
    },
    {
      "cell_type": "code",
      "source": [
        "output=pd.DataFrame({'Model':model,\n",
        "                    'Accuracy':accuracy,\n",
        "                    'F1 score':f1})\n",
        "output"
      ],
      "metadata": {
        "execution": {
          "iopub.status.busy": "2021-06-09T21:36:20.563199Z",
          "iopub.execute_input": "2021-06-09T21:36:20.563495Z",
          "iopub.status.idle": "2021-06-09T21:36:20.584051Z",
          "shell.execute_reply.started": "2021-06-09T21:36:20.563473Z",
          "shell.execute_reply": "2021-06-09T21:36:20.582611Z"
        },
        "trusted": true,
        "colab": {
          "base_uri": "https://localhost:8080/",
          "height": 143
        },
        "id": "VUE-WXi7gvpW",
        "outputId": "2c43547a-ebe7-4dc8-eb59-9ed9c19614bc"
      },
      "execution_count": 547,
      "outputs": [
        {
          "output_type": "execute_result",
          "data": {
            "text/plain": [
              "                 Model  Accuracy  F1 score\n",
              "0  Logistic Regression      0.77      0.74\n",
              "1        Random Forest      0.75      0.73\n",
              "2              Xgboost      0.77      0.74"
            ],
            "text/html": [
              "\n",
              "  <div id=\"df-e881f536-a75c-436e-ae48-458c19c7f706\">\n",
              "    <div class=\"colab-df-container\">\n",
              "      <div>\n",
              "<style scoped>\n",
              "    .dataframe tbody tr th:only-of-type {\n",
              "        vertical-align: middle;\n",
              "    }\n",
              "\n",
              "    .dataframe tbody tr th {\n",
              "        vertical-align: top;\n",
              "    }\n",
              "\n",
              "    .dataframe thead th {\n",
              "        text-align: right;\n",
              "    }\n",
              "</style>\n",
              "<table border=\"1\" class=\"dataframe\">\n",
              "  <thead>\n",
              "    <tr style=\"text-align: right;\">\n",
              "      <th></th>\n",
              "      <th>Model</th>\n",
              "      <th>Accuracy</th>\n",
              "      <th>F1 score</th>\n",
              "    </tr>\n",
              "  </thead>\n",
              "  <tbody>\n",
              "    <tr>\n",
              "      <th>0</th>\n",
              "      <td>Logistic Regression</td>\n",
              "      <td>0.77</td>\n",
              "      <td>0.74</td>\n",
              "    </tr>\n",
              "    <tr>\n",
              "      <th>1</th>\n",
              "      <td>Random Forest</td>\n",
              "      <td>0.75</td>\n",
              "      <td>0.73</td>\n",
              "    </tr>\n",
              "    <tr>\n",
              "      <th>2</th>\n",
              "      <td>Xgboost</td>\n",
              "      <td>0.77</td>\n",
              "      <td>0.74</td>\n",
              "    </tr>\n",
              "  </tbody>\n",
              "</table>\n",
              "</div>\n",
              "      <button class=\"colab-df-convert\" onclick=\"convertToInteractive('df-e881f536-a75c-436e-ae48-458c19c7f706')\"\n",
              "              title=\"Convert this dataframe to an interactive table.\"\n",
              "              style=\"display:none;\">\n",
              "        \n",
              "  <svg xmlns=\"http://www.w3.org/2000/svg\" height=\"24px\"viewBox=\"0 0 24 24\"\n",
              "       width=\"24px\">\n",
              "    <path d=\"M0 0h24v24H0V0z\" fill=\"none\"/>\n",
              "    <path d=\"M18.56 5.44l.94 2.06.94-2.06 2.06-.94-2.06-.94-.94-2.06-.94 2.06-2.06.94zm-11 1L8.5 8.5l.94-2.06 2.06-.94-2.06-.94L8.5 2.5l-.94 2.06-2.06.94zm10 10l.94 2.06.94-2.06 2.06-.94-2.06-.94-.94-2.06-.94 2.06-2.06.94z\"/><path d=\"M17.41 7.96l-1.37-1.37c-.4-.4-.92-.59-1.43-.59-.52 0-1.04.2-1.43.59L10.3 9.45l-7.72 7.72c-.78.78-.78 2.05 0 2.83L4 21.41c.39.39.9.59 1.41.59.51 0 1.02-.2 1.41-.59l7.78-7.78 2.81-2.81c.8-.78.8-2.07 0-2.86zM5.41 20L4 18.59l7.72-7.72 1.47 1.35L5.41 20z\"/>\n",
              "  </svg>\n",
              "      </button>\n",
              "      \n",
              "  <style>\n",
              "    .colab-df-container {\n",
              "      display:flex;\n",
              "      flex-wrap:wrap;\n",
              "      gap: 12px;\n",
              "    }\n",
              "\n",
              "    .colab-df-convert {\n",
              "      background-color: #E8F0FE;\n",
              "      border: none;\n",
              "      border-radius: 50%;\n",
              "      cursor: pointer;\n",
              "      display: none;\n",
              "      fill: #1967D2;\n",
              "      height: 32px;\n",
              "      padding: 0 0 0 0;\n",
              "      width: 32px;\n",
              "    }\n",
              "\n",
              "    .colab-df-convert:hover {\n",
              "      background-color: #E2EBFA;\n",
              "      box-shadow: 0px 1px 2px rgba(60, 64, 67, 0.3), 0px 1px 3px 1px rgba(60, 64, 67, 0.15);\n",
              "      fill: #174EA6;\n",
              "    }\n",
              "\n",
              "    [theme=dark] .colab-df-convert {\n",
              "      background-color: #3B4455;\n",
              "      fill: #D2E3FC;\n",
              "    }\n",
              "\n",
              "    [theme=dark] .colab-df-convert:hover {\n",
              "      background-color: #434B5C;\n",
              "      box-shadow: 0px 1px 3px 1px rgba(0, 0, 0, 0.15);\n",
              "      filter: drop-shadow(0px 1px 2px rgba(0, 0, 0, 0.3));\n",
              "      fill: #FFFFFF;\n",
              "    }\n",
              "  </style>\n",
              "\n",
              "      <script>\n",
              "        const buttonEl =\n",
              "          document.querySelector('#df-e881f536-a75c-436e-ae48-458c19c7f706 button.colab-df-convert');\n",
              "        buttonEl.style.display =\n",
              "          google.colab.kernel.accessAllowed ? 'block' : 'none';\n",
              "\n",
              "        async function convertToInteractive(key) {\n",
              "          const element = document.querySelector('#df-e881f536-a75c-436e-ae48-458c19c7f706');\n",
              "          const dataTable =\n",
              "            await google.colab.kernel.invokeFunction('convertToInteractive',\n",
              "                                                     [key], {});\n",
              "          if (!dataTable) return;\n",
              "\n",
              "          const docLinkHtml = 'Like what you see? Visit the ' +\n",
              "            '<a target=\"_blank\" href=https://colab.research.google.com/notebooks/data_table.ipynb>data table notebook</a>'\n",
              "            + ' to learn more about interactive tables.';\n",
              "          element.innerHTML = '';\n",
              "          dataTable['output_type'] = 'display_data';\n",
              "          await google.colab.output.renderOutput(dataTable, element);\n",
              "          const docLink = document.createElement('div');\n",
              "          docLink.innerHTML = docLinkHtml;\n",
              "          element.appendChild(docLink);\n",
              "        }\n",
              "      </script>\n",
              "    </div>\n",
              "  </div>\n",
              "  "
            ]
          },
          "metadata": {},
          "execution_count": 547
        }
      ]
    },
    {
      "cell_type": "code",
      "source": [
        "output.plot(x=\"Model\", y=[\"Accuracy\", \"F1 score\"], kind=\"bar\")"
      ],
      "metadata": {
        "colab": {
          "base_uri": "https://localhost:8080/",
          "height": 492
        },
        "id": "oNurI2hCkZT-",
        "outputId": "acf5c380-e3dc-42d1-d169-c8d23a896a05"
      },
      "execution_count": 548,
      "outputs": [
        {
          "output_type": "execute_result",
          "data": {
            "text/plain": [
              "<matplotlib.axes._subplots.AxesSubplot at 0x7fa198616dd0>"
            ]
          },
          "metadata": {},
          "execution_count": 548
        },
        {
          "output_type": "display_data",
          "data": {
            "text/plain": [
              "<Figure size 576x432 with 1 Axes>"
            ],
            "image/png": "[encoded data removed]"
          },
          "metadata": {}
        }
      ]
    },
    {
      "cell_type": "markdown",
      "source": [
        "**Dari chart dan list data di atas jelas bahwa Random Forest memberikan skor akurasi dan skor f1 terbaik.**"
      ],
      "metadata": {
        "id": "Sg8GpAm9gvpW"
      }
    },
    {
      "cell_type": "markdown",
      "source": [
        "# **Hyper Parameter**"
      ],
      "metadata": {
        "id": "jtETbIsw-WJI"
      }
    },
    {
      "cell_type": "code",
      "source": [
        "# Define Parameters\n",
        "\n",
        "param_grid = {  'bootstrap': [True], 'max_depth': [5, 10, None], 'max_features': ['auto', 'log2'], 'n_estimators': [5, 6, 7, 8, 9, 10, 11, 12, 13, 15]}\n",
        "\n",
        "# Build the grid search\n",
        "grid = GridSearchCV(estimator=rfc, param_grid=param_grid, cv = 3, n_jobs = -1, verbose = 2)\n",
        "grid_results = grid.fit(x_train, y_train)\n",
        "\n",
        "# Summarize the results in a readable format\n",
        "print(\"Best: {0}, using {1}\".format(grid_results.cv_results_['mean_test_score'], grid_results.best_params_))\n",
        "results_df = pd.DataFrame(grid_results.cv_results_)\n",
        "results_df.head()"
      ],
      "metadata": {
        "colab": {
          "base_uri": "https://localhost:8080/",
          "height": 808
        },
        "id": "WI3OTFIjAeTv",
        "outputId": "59a18799-ed77-4bbb-f7a5-5a620a6c698b"
      },
      "execution_count": 549,
      "outputs": [
        {
          "output_type": "stream",
          "name": "stdout",
          "text": [
            "Fitting 3 folds for each of 60 candidates, totalling 180 fits\n",
            "Best: [0.78916617 0.79779589 0.80219563 0.81303228 0.80646804 0.80431769\n",
            " 0.81301814 0.81083949 0.81081119 0.80866084 0.79348103 0.80648219\n",
            " 0.81516849 0.81519679 0.80433183 0.81733299 0.81085363 0.81083949\n",
            " 0.81518264 0.80651048 0.78908129 0.76735138 0.77612257 0.78694508\n",
            " 0.78694508 0.78039499 0.80213904 0.78906714 0.80222392 0.79561724\n",
            " 0.77828707 0.79123164 0.78043743 0.78040913 0.76951589 0.79127409\n",
            " 0.77603769 0.78036669 0.80215318 0.80213904 0.78258778 0.74557904\n",
            " 0.78693093 0.76960077 0.77387319 0.78475228 0.78905299 0.76520103\n",
            " 0.78043743 0.79127409 0.78476643 0.72817814 0.78480887 0.78697338\n",
            " 0.78254534 0.76960077 0.78912373 0.79125994 0.78042328 0.77823048], using {'bootstrap': True, 'max_depth': 5, 'max_features': 'log2', 'n_estimators': 10}\n"
          ]
        },
        {
          "output_type": "execute_result",
          "data": {
            "text/plain": [
              "   mean_fit_time  std_fit_time  mean_score_time  std_score_time  \\\n",
              "0       0.016565      0.001196         0.002958        0.000111   \n",
              "1       0.019447      0.002515         0.004549        0.002114   \n",
              "2       0.028234      0.004491         0.004393        0.000965   \n",
              "3       0.026898      0.002566         0.005540        0.002711   \n",
              "4       0.027629      0.002523         0.004409        0.000136   \n",
              "\n",
              "  param_bootstrap param_max_depth param_max_features param_n_estimators  \\\n",
              "0            True               5               auto                  5   \n",
              "1            True               5               auto                  6   \n",
              "2            True               5               auto                  7   \n",
              "3            True               5               auto                  8   \n",
              "4            True               5               auto                  9   \n",
              "\n",
              "                                              params  split0_test_score  \\\n",
              "0  {'bootstrap': True, 'max_depth': 5, 'max_featu...           0.772727   \n",
              "1  {'bootstrap': True, 'max_depth': 5, 'max_featu...           0.811688   \n",
              "2  {'bootstrap': True, 'max_depth': 5, 'max_featu...           0.792208   \n",
              "3  {'bootstrap': True, 'max_depth': 5, 'max_featu...           0.818182   \n",
              "4  {'bootstrap': True, 'max_depth': 5, 'max_featu...           0.831169   \n",
              "\n",
              "   split1_test_score  split2_test_score  mean_test_score  std_test_score  \\\n",
              "0           0.784314           0.810458         0.789166        0.015781   \n",
              "1           0.784314           0.797386         0.797796        0.011179   \n",
              "2           0.803922           0.810458         0.802196        0.007550   \n",
              "3           0.797386           0.823529         0.813032        0.011277   \n",
              "4           0.784314           0.803922         0.806468        0.019213   \n",
              "\n",
              "   rank_test_score  \n",
              "0               29  \n",
              "1               22  \n",
              "2               18  \n",
              "3                5  \n",
              "4               14  "
            ],
            "text/html": [
              "\n",
              "  <div id=\"df-c02b14eb-3b73-4f8a-8aae-252647827708\">\n",
              "    <div class=\"colab-df-container\">\n",
              "      <div>\n",
              "<style scoped>\n",
              "    .dataframe tbody tr th:only-of-type {\n",
              "        vertical-align: middle;\n",
              "    }\n",
              "\n",
              "    .dataframe tbody tr th {\n",
              "        vertical-align: top;\n",
              "    }\n",
              "\n",
              "    .dataframe thead th {\n",
              "        text-align: right;\n",
              "    }\n",
              "</style>\n",
              "<table border=\"1\" class=\"dataframe\">\n",
              "  <thead>\n",
              "    <tr style=\"text-align: right;\">\n",
              "      <th></th>\n",
              "      <th>mean_fit_time</th>\n",
              "      <th>std_fit_time</th>\n",
              "      <th>mean_score_time</th>\n",
              "      <th>std_score_time</th>\n",
              "      <th>param_bootstrap</th>\n",
              "      <th>param_max_depth</th>\n",
              "      <th>param_max_features</th>\n",
              "      <th>param_n_estimators</th>\n",
              "      <th>params</th>\n",
              "      <th>split0_test_score</th>\n",
              "      <th>split1_test_score</th>\n",
              "      <th>split2_test_score</th>\n",
              "      <th>mean_test_score</th>\n",
              "      <th>std_test_score</th>\n",
              "      <th>rank_test_score</th>\n",
              "    </tr>\n",
              "  </thead>\n",
              "  <tbody>\n",
              "    <tr>\n",
              "      <th>0</th>\n",
              "      <td>0.016565</td>\n",
              "      <td>0.001196</td>\n",
              "      <td>0.002958</td>\n",
              "      <td>0.000111</td>\n",
              "      <td>True</td>\n",
              "      <td>5</td>\n",
              "      <td>auto</td>\n",
              "      <td>5</td>\n",
              "      <td>{'bootstrap': True, 'max_depth': 5, 'max_featu...</td>\n",
              "      <td>0.772727</td>\n",
              "      <td>0.784314</td>\n",
              "      <td>0.810458</td>\n",
              "      <td>0.789166</td>\n",
              "      <td>0.015781</td>\n",
              "      <td>29</td>\n",
              "    </tr>\n",
              "    <tr>\n",
              "      <th>1</th>\n",
              "      <td>0.019447</td>\n",
              "      <td>0.002515</td>\n",
              "      <td>0.004549</td>\n",
              "      <td>0.002114</td>\n",
              "      <td>True</td>\n",
              "      <td>5</td>\n",
              "      <td>auto</td>\n",
              "      <td>6</td>\n",
              "      <td>{'bootstrap': True, 'max_depth': 5, 'max_featu...</td>\n",
              "      <td>0.811688</td>\n",
              "      <td>0.784314</td>\n",
              "      <td>0.797386</td>\n",
              "      <td>0.797796</td>\n",
              "      <td>0.011179</td>\n",
              "      <td>22</td>\n",
              "    </tr>\n",
              "    <tr>\n",
              "      <th>2</th>\n",
              "      <td>0.028234</td>\n",
              "      <td>0.004491</td>\n",
              "      <td>0.004393</td>\n",
              "      <td>0.000965</td>\n",
              "      <td>True</td>\n",
              "      <td>5</td>\n",
              "      <td>auto</td>\n",
              "      <td>7</td>\n",
              "      <td>{'bootstrap': True, 'max_depth': 5, 'max_featu...</td>\n",
              "      <td>0.792208</td>\n",
              "      <td>0.803922</td>\n",
              "      <td>0.810458</td>\n",
              "      <td>0.802196</td>\n",
              "      <td>0.007550</td>\n",
              "      <td>18</td>\n",
              "    </tr>\n",
              "    <tr>\n",
              "      <th>3</th>\n",
              "      <td>0.026898</td>\n",
              "      <td>0.002566</td>\n",
              "      <td>0.005540</td>\n",
              "      <td>0.002711</td>\n",
              "      <td>True</td>\n",
              "      <td>5</td>\n",
              "      <td>auto</td>\n",
              "      <td>8</td>\n",
              "      <td>{'bootstrap': True, 'max_depth': 5, 'max_featu...</td>\n",
              "      <td>0.818182</td>\n",
              "      <td>0.797386</td>\n",
              "      <td>0.823529</td>\n",
              "      <td>0.813032</td>\n",
              "      <td>0.011277</td>\n",
              "      <td>5</td>\n",
              "    </tr>\n",
              "    <tr>\n",
              "      <th>4</th>\n",
              "      <td>0.027629</td>\n",
              "      <td>0.002523</td>\n",
              "      <td>0.004409</td>\n",
              "      <td>0.000136</td>\n",
              "      <td>True</td>\n",
              "      <td>5</td>\n",
              "      <td>auto</td>\n",
              "      <td>9</td>\n",
              "      <td>{'bootstrap': True, 'max_depth': 5, 'max_featu...</td>\n",
              "      <td>0.831169</td>\n",
              "      <td>0.784314</td>\n",
              "      <td>0.803922</td>\n",
              "      <td>0.806468</td>\n",
              "      <td>0.019213</td>\n",
              "      <td>14</td>\n",
              "    </tr>\n",
              "  </tbody>\n",
              "</table>\n",
              "</div>\n",
              "      <button class=\"colab-df-convert\" onclick=\"convertToInteractive('df-c02b14eb-3b73-4f8a-8aae-252647827708')\"\n",
              "              title=\"Convert this dataframe to an interactive table.\"\n",
              "              style=\"display:none;\">\n",
              "        \n",
              "  <svg xmlns=\"http://www.w3.org/2000/svg\" height=\"24px\"viewBox=\"0 0 24 24\"\n",
              "       width=\"24px\">\n",
              "    <path d=\"M0 0h24v24H0V0z\" fill=\"none\"/>\n",
              "    <path d=\"M18.56 5.44l.94 2.06.94-2.06 2.06-.94-2.06-.94-.94-2.06-.94 2.06-2.06.94zm-11 1L8.5 8.5l.94-2.06 2.06-.94-2.06-.94L8.5 2.5l-.94 2.06-2.06.94zm10 10l.94 2.06.94-2.06 2.06-.94-2.06-.94-.94-2.06-.94 2.06-2.06.94z\"/><path d=\"M17.41 7.96l-1.37-1.37c-.4-.4-.92-.59-1.43-.59-.52 0-1.04.2-1.43.59L10.3 9.45l-7.72 7.72c-.78.78-.78 2.05 0 2.83L4 21.41c.39.39.9.59 1.41.59.51 0 1.02-.2 1.41-.59l7.78-7.78 2.81-2.81c.8-.78.8-2.07 0-2.86zM5.41 20L4 18.59l7.72-7.72 1.47 1.35L5.41 20z\"/>\n",
              "  </svg>\n",
              "      </button>\n",
              "      \n",
              "  <style>\n",
              "    .colab-df-container {\n",
              "      display:flex;\n",
              "      flex-wrap:wrap;\n",
              "      gap: 12px;\n",
              "    }\n",
              "\n",
              "    .colab-df-convert {\n",
              "      background-color: #E8F0FE;\n",
              "      border: none;\n",
              "      border-radius: 50%;\n",
              "      cursor: pointer;\n",
              "      display: none;\n",
              "      fill: #1967D2;\n",
              "      height: 32px;\n",
              "      padding: 0 0 0 0;\n",
              "      width: 32px;\n",
              "    }\n",
              "\n",
              "    .colab-df-convert:hover {\n",
              "      background-color: #E2EBFA;\n",
              "      box-shadow: 0px 1px 2px rgba(60, 64, 67, 0.3), 0px 1px 3px 1px rgba(60, 64, 67, 0.15);\n",
              "      fill: #174EA6;\n",
              "    }\n",
              "\n",
              "    [theme=dark] .colab-df-convert {\n",
              "      background-color: #3B4455;\n",
              "      fill: #D2E3FC;\n",
              "    }\n",
              "\n",
              "    [theme=dark] .colab-df-convert:hover {\n",
              "      background-color: #434B5C;\n",
              "      box-shadow: 0px 1px 3px 1px rgba(0, 0, 0, 0.15);\n",
              "      filter: drop-shadow(0px 1px 2px rgba(0, 0, 0, 0.3));\n",
              "      fill: #FFFFFF;\n",
              "    }\n",
              "  </style>\n",
              "\n",
              "      <script>\n",
              "        const buttonEl =\n",
              "          document.querySelector('#df-c02b14eb-3b73-4f8a-8aae-252647827708 button.colab-df-convert');\n",
              "        buttonEl.style.display =\n",
              "          google.colab.kernel.accessAllowed ? 'block' : 'none';\n",
              "\n",
              "        async function convertToInteractive(key) {\n",
              "          const element = document.querySelector('#df-c02b14eb-3b73-4f8a-8aae-252647827708');\n",
              "          const dataTable =\n",
              "            await google.colab.kernel.invokeFunction('convertToInteractive',\n",
              "                                                     [key], {});\n",
              "          if (!dataTable) return;\n",
              "\n",
              "          const docLinkHtml = 'Like what you see? Visit the ' +\n",
              "            '<a target=\"_blank\" href=https://colab.research.google.com/notebooks/data_table.ipynb>data table notebook</a>'\n",
              "            + ' to learn more about interactive tables.';\n",
              "          element.innerHTML = '';\n",
              "          dataTable['output_type'] = 'display_data';\n",
              "          await google.colab.output.renderOutput(dataTable, element);\n",
              "          const docLink = document.createElement('div');\n",
              "          docLink.innerHTML = docLinkHtml;\n",
              "          element.appendChild(docLink);\n",
              "        }\n",
              "      </script>\n",
              "    </div>\n",
              "  </div>\n",
              "  "
            ]
          },
          "metadata": {},
          "execution_count": 549
        }
      ]
    },
    {
      "cell_type": "code",
      "source": [
        "# Extract the best decision forest \n",
        "best_clf = grid_results.best_estimator_\n",
        "y_pred = best_clf.predict(x_val)\n",
        "\n",
        "# Create a confusion matrix\n",
        "cnf_matrix = confusion_matrix(y_val, y_pred)\n",
        "\n",
        "# Create heatmap from the confusion matrix\n",
        "%matplotlib inline\n",
        "class_names=[False, True] # name  of classes\n",
        "fig, ax = plt.subplots(figsize=(7, 6))\n",
        "sns.heatmap(pd.DataFrame(cnf_matrix), annot=True, cmap=\"YlGnBu\", fmt='g')\n",
        "ax.xaxis.set_label_position(\"top\")\n",
        "plt.tight_layout()\n",
        "plt.title('Confusion matrix')\n",
        "plt.ylabel('Actual label')\n",
        "plt.xlabel('Predicted label')\n",
        "tick_marks = [0.5, 1.5]\n",
        "plt.xticks(tick_marks, class_names)\n",
        "plt.yticks(tick_marks, class_names)"
      ],
      "metadata": {
        "colab": {
          "base_uri": "https://localhost:8080/",
          "height": 521
        },
        "id": "6wsxEgbyAzM6",
        "outputId": "b0514009-48e3-4aff-970d-eed7c27c4eaf"
      },
      "execution_count": 550,
      "outputs": [
        {
          "output_type": "execute_result",
          "data": {
            "text/plain": [
              "([<matplotlib.axis.YTick at 0x7fa1993dc6d0>,\n",
              "  <matplotlib.axis.YTick at 0x7fa199223ad0>],\n",
              " [Text(0, 0.5, 'False'), Text(0, 1.5, 'True')])"
            ]
          },
          "metadata": {},
          "execution_count": 550
        },
        {
          "output_type": "display_data",
          "data": {
            "text/plain": [
              "<Figure size 504x432 with 2 Axes>"
            ],
            "image/png": "[encoded data removed]"
          },
          "metadata": {
            "needs_background": "light"
          }
        }
      ]
    },
    {
      "cell_type": "code",
      "source": [
        "accuracy.append(np.round(accuracy_score(y_val,y_pred),2))\n",
        "f1.append(np.round(f1_score(y_val,y_pred,average='weighted'),2))\n",
        "model.append('Random Forest Hyper Parameter')"
      ],
      "metadata": {
        "id": "nAi5mgoTBFcx"
      },
      "execution_count": 551,
      "outputs": []
    },
    {
      "cell_type": "code",
      "source": [
        "output_hyper=pd.DataFrame({'Model':model,\n",
        "                    'Accuracy':accuracy,\n",
        "                    'F1 score':f1})\n",
        "output_hyper"
      ],
      "metadata": {
        "colab": {
          "base_uri": "https://localhost:8080/",
          "height": 175
        },
        "id": "kf_0LFFomgJT",
        "outputId": "6cf17b1b-d43b-4d43-d5b9-064ef66638ef"
      },
      "execution_count": 552,
      "outputs": [
        {
          "output_type": "execute_result",
          "data": {
            "text/plain": [
              "                           Model  Accuracy  F1 score\n",
              "0            Logistic Regression      0.77      0.74\n",
              "1                  Random Forest      0.75      0.73\n",
              "2                        Xgboost      0.77      0.74\n",
              "3  Random Forest Hyper Parameter      0.77      0.74"
            ],
            "text/html": [
              "\n",
              "  <div id=\"df-71972ed3-baf1-48b0-b663-c5f7419e1f50\">\n",
              "    <div class=\"colab-df-container\">\n",
              "      <div>\n",
              "<style scoped>\n",
              "    .dataframe tbody tr th:only-of-type {\n",
              "        vertical-align: middle;\n",
              "    }\n",
              "\n",
              "    .dataframe tbody tr th {\n",
              "        vertical-align: top;\n",
              "    }\n",
              "\n",
              "    .dataframe thead th {\n",
              "        text-align: right;\n",
              "    }\n",
              "</style>\n",
              "<table border=\"1\" class=\"dataframe\">\n",
              "  <thead>\n",
              "    <tr style=\"text-align: right;\">\n",
              "      <th></th>\n",
              "      <th>Model</th>\n",
              "      <th>Accuracy</th>\n",
              "      <th>F1 score</th>\n",
              "    </tr>\n",
              "  </thead>\n",
              "  <tbody>\n",
              "    <tr>\n",
              "      <th>0</th>\n",
              "      <td>Logistic Regression</td>\n",
              "      <td>0.77</td>\n",
              "      <td>0.74</td>\n",
              "    </tr>\n",
              "    <tr>\n",
              "      <th>1</th>\n",
              "      <td>Random Forest</td>\n",
              "      <td>0.75</td>\n",
              "      <td>0.73</td>\n",
              "    </tr>\n",
              "    <tr>\n",
              "      <th>2</th>\n",
              "      <td>Xgboost</td>\n",
              "      <td>0.77</td>\n",
              "      <td>0.74</td>\n",
              "    </tr>\n",
              "    <tr>\n",
              "      <th>3</th>\n",
              "      <td>Random Forest Hyper Parameter</td>\n",
              "      <td>0.77</td>\n",
              "      <td>0.74</td>\n",
              "    </tr>\n",
              "  </tbody>\n",
              "</table>\n",
              "</div>\n",
              "      <button class=\"colab-df-convert\" onclick=\"convertToInteractive('df-71972ed3-baf1-48b0-b663-c5f7419e1f50')\"\n",
              "              title=\"Convert this dataframe to an interactive table.\"\n",
              "              style=\"display:none;\">\n",
              "        \n",
              "  <svg xmlns=\"http://www.w3.org/2000/svg\" height=\"24px\"viewBox=\"0 0 24 24\"\n",
              "       width=\"24px\">\n",
              "    <path d=\"M0 0h24v24H0V0z\" fill=\"none\"/>\n",
              "    <path d=\"M18.56 5.44l.94 2.06.94-2.06 2.06-.94-2.06-.94-.94-2.06-.94 2.06-2.06.94zm-11 1L8.5 8.5l.94-2.06 2.06-.94-2.06-.94L8.5 2.5l-.94 2.06-2.06.94zm10 10l.94 2.06.94-2.06 2.06-.94-2.06-.94-.94-2.06-.94 2.06-2.06.94z\"/><path d=\"M17.41 7.96l-1.37-1.37c-.4-.4-.92-.59-1.43-.59-.52 0-1.04.2-1.43.59L10.3 9.45l-7.72 7.72c-.78.78-.78 2.05 0 2.83L4 21.41c.39.39.9.59 1.41.59.51 0 1.02-.2 1.41-.59l7.78-7.78 2.81-2.81c.8-.78.8-2.07 0-2.86zM5.41 20L4 18.59l7.72-7.72 1.47 1.35L5.41 20z\"/>\n",
              "  </svg>\n",
              "      </button>\n",
              "      \n",
              "  <style>\n",
              "    .colab-df-container {\n",
              "      display:flex;\n",
              "      flex-wrap:wrap;\n",
              "      gap: 12px;\n",
              "    }\n",
              "\n",
              "    .colab-df-convert {\n",
              "      background-color: #E8F0FE;\n",
              "      border: none;\n",
              "      border-radius: 50%;\n",
              "      cursor: pointer;\n",
              "      display: none;\n",
              "      fill: #1967D2;\n",
              "      height: 32px;\n",
              "      padding: 0 0 0 0;\n",
              "      width: 32px;\n",
              "    }\n",
              "\n",
              "    .colab-df-convert:hover {\n",
              "      background-color: #E2EBFA;\n",
              "      box-shadow: 0px 1px 2px rgba(60, 64, 67, 0.3), 0px 1px 3px 1px rgba(60, 64, 67, 0.15);\n",
              "      fill: #174EA6;\n",
              "    }\n",
              "\n",
              "    [theme=dark] .colab-df-convert {\n",
              "      background-color: #3B4455;\n",
              "      fill: #D2E3FC;\n",
              "    }\n",
              "\n",
              "    [theme=dark] .colab-df-convert:hover {\n",
              "      background-color: #434B5C;\n",
              "      box-shadow: 0px 1px 3px 1px rgba(0, 0, 0, 0.15);\n",
              "      filter: drop-shadow(0px 1px 2px rgba(0, 0, 0, 0.3));\n",
              "      fill: #FFFFFF;\n",
              "    }\n",
              "  </style>\n",
              "\n",
              "      <script>\n",
              "        const buttonEl =\n",
              "          document.querySelector('#df-71972ed3-baf1-48b0-b663-c5f7419e1f50 button.colab-df-convert');\n",
              "        buttonEl.style.display =\n",
              "          google.colab.kernel.accessAllowed ? 'block' : 'none';\n",
              "\n",
              "        async function convertToInteractive(key) {\n",
              "          const element = document.querySelector('#df-71972ed3-baf1-48b0-b663-c5f7419e1f50');\n",
              "          const dataTable =\n",
              "            await google.colab.kernel.invokeFunction('convertToInteractive',\n",
              "                                                     [key], {});\n",
              "          if (!dataTable) return;\n",
              "\n",
              "          const docLinkHtml = 'Like what you see? Visit the ' +\n",
              "            '<a target=\"_blank\" href=https://colab.research.google.com/notebooks/data_table.ipynb>data table notebook</a>'\n",
              "            + ' to learn more about interactive tables.';\n",
              "          element.innerHTML = '';\n",
              "          dataTable['output_type'] = 'display_data';\n",
              "          await google.colab.output.renderOutput(dataTable, element);\n",
              "          const docLink = document.createElement('div');\n",
              "          docLink.innerHTML = docLinkHtml;\n",
              "          element.appendChild(docLink);\n",
              "        }\n",
              "      </script>\n",
              "    </div>\n",
              "  </div>\n",
              "  "
            ]
          },
          "metadata": {},
          "execution_count": 552
        }
      ]
    },
    {
      "cell_type": "markdown",
      "source": [
        "Setelah dicoba hyper parameter terdapat kenaikan pada accuracy sebanyak 0.01%"
      ],
      "metadata": {
        "id": "kkQs6z_LIpjg"
      }
    },
    {
      "cell_type": "markdown",
      "source": [
        "# **Testing model terbaik dengan data Test**"
      ],
      "metadata": {
        "id": "JSIZ94aAVx-f"
      }
    },
    {
      "cell_type": "code",
      "source": [
        "y_pred=rfc.predict(df_test_norm)\n",
        "y_pred[0:5]"
      ],
      "metadata": {
        "colab": {
          "base_uri": "https://localhost:8080/"
        },
        "id": "x0YKt99GVrfR",
        "outputId": "3f17d9cc-48f6-4a44-826a-6ed06f81cb69"
      },
      "execution_count": 553,
      "outputs": [
        {
          "output_type": "execute_result",
          "data": {
            "text/plain": [
              "array(['Y', 'Y', 'Y', 'Y', 'N'], dtype=object)"
            ]
          },
          "metadata": {},
          "execution_count": 553
        }
      ]
    },
    {
      "cell_type": "code",
      "source": [
        "result=pd.DataFrame({'LoanID':df_test_id,\n",
        "                    'Loan_Status':y_pred})\n",
        "result.head()"
      ],
      "metadata": {
        "colab": {
          "base_uri": "https://localhost:8080/",
          "height": 206
        },
        "id": "EP86W_NpVuKl",
        "outputId": "526dde93-7d12-4935-e865-344947a8ad7b"
      },
      "execution_count": 554,
      "outputs": [
        {
          "output_type": "execute_result",
          "data": {
            "text/plain": [
              "     LoanID Loan_Status\n",
              "0  LP001015           Y\n",
              "1  LP001022           Y\n",
              "2  LP001031           Y\n",
              "3  LP001035           Y\n",
              "4  LP001051           N"
            ],
            "text/html": [
              "\n",
              "  <div id=\"df-1ac1c02a-8401-4af3-8560-4907953303f2\">\n",
              "    <div class=\"colab-df-container\">\n",
              "      <div>\n",
              "<style scoped>\n",
              "    .dataframe tbody tr th:only-of-type {\n",
              "        vertical-align: middle;\n",
              "    }\n",
              "\n",
              "    .dataframe tbody tr th {\n",
              "        vertical-align: top;\n",
              "    }\n",
              "\n",
              "    .dataframe thead th {\n",
              "        text-align: right;\n",
              "    }\n",
              "</style>\n",
              "<table border=\"1\" class=\"dataframe\">\n",
              "  <thead>\n",
              "    <tr style=\"text-align: right;\">\n",
              "      <th></th>\n",
              "      <th>LoanID</th>\n",
              "      <th>Loan_Status</th>\n",
              "    </tr>\n",
              "  </thead>\n",
              "  <tbody>\n",
              "    <tr>\n",
              "      <th>0</th>\n",
              "      <td>LP001015</td>\n",
              "      <td>Y</td>\n",
              "    </tr>\n",
              "    <tr>\n",
              "      <th>1</th>\n",
              "      <td>LP001022</td>\n",
              "      <td>Y</td>\n",
              "    </tr>\n",
              "    <tr>\n",
              "      <th>2</th>\n",
              "      <td>LP001031</td>\n",
              "      <td>Y</td>\n",
              "    </tr>\n",
              "    <tr>\n",
              "      <th>3</th>\n",
              "      <td>LP001035</td>\n",
              "      <td>Y</td>\n",
              "    </tr>\n",
              "    <tr>\n",
              "      <th>4</th>\n",
              "      <td>LP001051</td>\n",
              "      <td>N</td>\n",
              "    </tr>\n",
              "  </tbody>\n",
              "</table>\n",
              "</div>\n",
              "      <button class=\"colab-df-convert\" onclick=\"convertToInteractive('df-1ac1c02a-8401-4af3-8560-4907953303f2')\"\n",
              "              title=\"Convert this dataframe to an interactive table.\"\n",
              "              style=\"display:none;\">\n",
              "        \n",
              "  <svg xmlns=\"http://www.w3.org/2000/svg\" height=\"24px\"viewBox=\"0 0 24 24\"\n",
              "       width=\"24px\">\n",
              "    <path d=\"M0 0h24v24H0V0z\" fill=\"none\"/>\n",
              "    <path d=\"M18.56 5.44l.94 2.06.94-2.06 2.06-.94-2.06-.94-.94-2.06-.94 2.06-2.06.94zm-11 1L8.5 8.5l.94-2.06 2.06-.94-2.06-.94L8.5 2.5l-.94 2.06-2.06.94zm10 10l.94 2.06.94-2.06 2.06-.94-2.06-.94-.94-2.06-.94 2.06-2.06.94z\"/><path d=\"M17.41 7.96l-1.37-1.37c-.4-.4-.92-.59-1.43-.59-.52 0-1.04.2-1.43.59L10.3 9.45l-7.72 7.72c-.78.78-.78 2.05 0 2.83L4 21.41c.39.39.9.59 1.41.59.51 0 1.02-.2 1.41-.59l7.78-7.78 2.81-2.81c.8-.78.8-2.07 0-2.86zM5.41 20L4 18.59l7.72-7.72 1.47 1.35L5.41 20z\"/>\n",
              "  </svg>\n",
              "      </button>\n",
              "      \n",
              "  <style>\n",
              "    .colab-df-container {\n",
              "      display:flex;\n",
              "      flex-wrap:wrap;\n",
              "      gap: 12px;\n",
              "    }\n",
              "\n",
              "    .colab-df-convert {\n",
              "      background-color: #E8F0FE;\n",
              "      border: none;\n",
              "      border-radius: 50%;\n",
              "      cursor: pointer;\n",
              "      display: none;\n",
              "      fill: #1967D2;\n",
              "      height: 32px;\n",
              "      padding: 0 0 0 0;\n",
              "      width: 32px;\n",
              "    }\n",
              "\n",
              "    .colab-df-convert:hover {\n",
              "      background-color: #E2EBFA;\n",
              "      box-shadow: 0px 1px 2px rgba(60, 64, 67, 0.3), 0px 1px 3px 1px rgba(60, 64, 67, 0.15);\n",
              "      fill: #174EA6;\n",
              "    }\n",
              "\n",
              "    [theme=dark] .colab-df-convert {\n",
              "      background-color: #3B4455;\n",
              "      fill: #D2E3FC;\n",
              "    }\n",
              "\n",
              "    [theme=dark] .colab-df-convert:hover {\n",
              "      background-color: #434B5C;\n",
              "      box-shadow: 0px 1px 3px 1px rgba(0, 0, 0, 0.15);\n",
              "      filter: drop-shadow(0px 1px 2px rgba(0, 0, 0, 0.3));\n",
              "      fill: #FFFFFF;\n",
              "    }\n",
              "  </style>\n",
              "\n",
              "      <script>\n",
              "        const buttonEl =\n",
              "          document.querySelector('#df-1ac1c02a-8401-4af3-8560-4907953303f2 button.colab-df-convert');\n",
              "        buttonEl.style.display =\n",
              "          google.colab.kernel.accessAllowed ? 'block' : 'none';\n",
              "\n",
              "        async function convertToInteractive(key) {\n",
              "          const element = document.querySelector('#df-1ac1c02a-8401-4af3-8560-4907953303f2');\n",
              "          const dataTable =\n",
              "            await google.colab.kernel.invokeFunction('convertToInteractive',\n",
              "                                                     [key], {});\n",
              "          if (!dataTable) return;\n",
              "\n",
              "          const docLinkHtml = 'Like what you see? Visit the ' +\n",
              "            '<a target=\"_blank\" href=https://colab.research.google.com/notebooks/data_table.ipynb>data table notebook</a>'\n",
              "            + ' to learn more about interactive tables.';\n",
              "          element.innerHTML = '';\n",
              "          dataTable['output_type'] = 'display_data';\n",
              "          await google.colab.output.renderOutput(dataTable, element);\n",
              "          const docLink = document.createElement('div');\n",
              "          docLink.innerHTML = docLinkHtml;\n",
              "          element.appendChild(docLink);\n",
              "        }\n",
              "      </script>\n",
              "    </div>\n",
              "  </div>\n",
              "  "
            ]
          },
          "metadata": {},
          "execution_count": 554
        }
      ]
    }
  ]
}